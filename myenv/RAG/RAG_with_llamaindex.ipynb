{
  "cells": [
    {
      "cell_type": "markdown",
      "source": [
        "# **Question Answering Application for Customer Support**\n",
        "*                       <img src=\"https://drive.google.com/uc?id=13rkcrreujzgwY4uOnReoSnyyOqAiIojC\" width=\"1000\" height=\"500\">\n",
        "\n"
      ],
      "metadata": {
        "id": "C1pyz6FaMjnO"
      }
    },
    {
      "cell_type": "markdown",
      "source": [
        "###Installing libraries"
      ],
      "metadata": {
        "id": "f01NCQ_HGobx"
      }
    },
    {
      "cell_type": "markdown",
      "source": [
        "\n",
        "\n",
        "*   llama-index - a data framework for LLM-based applications to ingest, structure, and access private or domain-specific data. https://www.llamaindex.ai/\n",
        "\n",
        "*   pypdf - free and open-source pure-python PDF library capable of splitting, merging, cropping, and transforming the pages of PDF files. It can also add custom data, viewing options, and passwords to PDF files. pypdf can retrieve text and metadata from PDFs as well. https://pypdf.readthedocs.io/en/stable/\n",
        "*   google-generativeai - A suite of tools and services that enable developers to build and deploy generative AI applications. It is powered by Google AI's Pathways system, a collection of large language models (LLMs) that can be used for a variety of tasks, including generating text, translating languages, writing different kinds of creative text formats, and answering your questions in an informative way.\n",
        "https://ai.google/discover/generativeai/\n",
        "\n",
        "*   transformers -  Transformers provides APIs and tools to easily download and train state-of-the-art pretrained models. https://huggingface.co/docs/transformers/index\n",
        "\n",
        "\n",
        "\n",
        "\n"
      ],
      "metadata": {
        "id": "VQcnWaZoOStB"
      }
    },
    {
      "cell_type": "code",
      "execution_count": null,
      "metadata": {
        "id": "fe_fGBd8mwFk",
        "collapsed": true,
        "colab": {
          "base_uri": "https://localhost:8080/"
        },
        "outputId": "6f45822a-4d70-4c2b-c1ba-47b1aeabebb1"
      },
      "outputs": [
        {
          "output_type": "stream",
          "name": "stdout",
          "text": [
            "\u001b[2K     \u001b[90m━━━━━━━━━━━━━━━━━━━━━━━━━━━━━━━━━━━━━━━━\u001b[0m \u001b[32m914.3/914.3 kB\u001b[0m \u001b[31m5.0 MB/s\u001b[0m eta \u001b[36m0:00:00\u001b[0m\n",
            "\u001b[2K     \u001b[90m━━━━━━━━━━━━━━━━━━━━━━━━━━━━━━━━━━━━━━━━\u001b[0m \u001b[32m143.0/143.0 kB\u001b[0m \u001b[31m12.0 MB/s\u001b[0m eta \u001b[36m0:00:00\u001b[0m\n",
            "\u001b[2K     \u001b[90m━━━━━━━━━━━━━━━━━━━━━━━━━━━━━━━━━━━━━━━━\u001b[0m \u001b[32m75.0/75.0 kB\u001b[0m \u001b[31m7.8 MB/s\u001b[0m eta \u001b[36m0:00:00\u001b[0m\n",
            "\u001b[2K     \u001b[90m━━━━━━━━━━━━━━━━━━━━━━━━━━━━━━━━━━━━━━━━\u001b[0m \u001b[32m221.4/221.4 kB\u001b[0m \u001b[31m18.0 MB/s\u001b[0m eta \u001b[36m0:00:00\u001b[0m\n",
            "\u001b[2K     \u001b[90m━━━━━━━━━━━━━━━━━━━━━━━━━━━━━━━━━━━━━━━━\u001b[0m \u001b[32m2.0/2.0 MB\u001b[0m \u001b[31m24.8 MB/s\u001b[0m eta \u001b[36m0:00:00\u001b[0m\n",
            "\u001b[2K     \u001b[90m━━━━━━━━━━━━━━━━━━━━━━━━━━━━━━━━━━━━━━━━\u001b[0m \u001b[32m76.9/76.9 kB\u001b[0m \u001b[31m8.0 MB/s\u001b[0m eta \u001b[36m0:00:00\u001b[0m\n",
            "\u001b[2K     \u001b[90m━━━━━━━━━━━━━━━━━━━━━━━━━━━━━━━━━━━━━━━━\u001b[0m \u001b[32m58.3/58.3 kB\u001b[0m \u001b[31m3.4 MB/s\u001b[0m eta \u001b[36m0:00:00\u001b[0m\n",
            "\u001b[2K     \u001b[90m━━━━━━━━━━━━━━━━━━━━━━━━━━━━━━━━━━━━━━━━\u001b[0m \u001b[32m49.4/49.4 kB\u001b[0m \u001b[31m5.2 MB/s\u001b[0m eta \u001b[36m0:00:00\u001b[0m\n",
            "\u001b[?25h\u001b[31mERROR: pip's dependency resolver does not currently take into account all the packages that are installed. This behaviour is the source of the following dependency conflicts.\n",
            "llmx 0.0.15a0 requires cohere, which is not installed.\u001b[0m\u001b[31m\n",
            "\u001b[2K     \u001b[90m━━━━━━━━━━━━━━━━━━━━━━━━━━━━━━━━━━━━━━━━\u001b[0m \u001b[32m277.6/277.6 kB\u001b[0m \u001b[31m1.7 MB/s\u001b[0m eta \u001b[36m0:00:00\u001b[0m\n",
            "\u001b[?25h"
          ]
        }
      ],
      "source": [
        "!pip install -q llama-index==0.9.9\n",
        "!pip install -q pypdf==3.17.1\n",
        "!pip install -q google-generativeai==0.2.2\n",
        "!pip install -q transformers==4.35.2"
      ]
    },
    {
      "cell_type": "markdown",
      "source": [
        "### Import necessary modules from llama-index\n"
      ],
      "metadata": {
        "id": "dZhcOexGQIb_"
      }
    },
    {
      "cell_type": "code",
      "execution_count": null,
      "metadata": {
        "id": "j87DTNAonBN4"
      },
      "outputs": [],
      "source": [
        "from llama_index import SimpleDirectoryReader, VectorStoreIndex\n",
        "from llama_index.embeddings import HuggingFaceEmbedding\n",
        "from llama_index.llms.palm import PaLM\n",
        "from llama_index import ServiceContext\n",
        "import os"
      ]
    },
    {
      "cell_type": "markdown",
      "source": [
        "### Creating a folder to add files."
      ],
      "metadata": {
        "id": "zCZwBd1xQgy8"
      }
    },
    {
      "cell_type": "code",
      "execution_count": null,
      "metadata": {
        "id": "ItTStFzZny34"
      },
      "outputs": [],
      "source": [
        "! mkdir data"
      ]
    },
    {
      "cell_type": "markdown",
      "metadata": {
        "id": "iIcaLYDFuOzF"
      },
      "source": [
        "###  Add your txt or pdf files to the data folder.\n",
        "\n",
        "\n"
      ]
    },
    {
      "cell_type": "markdown",
      "source": [
        "### Loading Data..."
      ],
      "metadata": {
        "id": "yKnEsasgcjRc"
      }
    },
    {
      "cell_type": "markdown",
      "source": [
        "####  SimpleDirectoryReader creates documents out of every file in a given directory. It is built in to LlamaIndex and can read a variety of formats including Markdown, PDFs, Word documents, PowerPoint decks, images, audio and video."
      ],
      "metadata": {
        "id": "InE9JDyncDbD"
      }
    },
    {
      "cell_type": "code",
      "execution_count": null,
      "metadata": {
        "id": "IC-nwdiNn2ML"
      },
      "outputs": [],
      "source": [
        "# Load text files from the 'data' folder\n",
        "documents = SimpleDirectoryReader(\"./data\").load_data()"
      ]
    },
    {
      "cell_type": "code",
      "execution_count": null,
      "metadata": {
        "colab": {
          "base_uri": "https://localhost:8080/"
        },
        "id": "CFgJk42toXtv",
        "outputId": "4b134998-f3ba-4658-caca-23ed423fa634",
        "collapsed": true
      },
      "outputs": [
        {
          "output_type": "execute_result",
          "data": {
            "text/plain": [
              "[Document(id_='50c15b08-41aa-4005-847c-296c1a72974a', embedding=None, metadata={'page_label': '1', 'file_name': 'products.pdf', 'file_path': 'data/products.pdf', 'file_type': 'application/pdf', 'file_size': 45566, 'creation_date': '2023-12-03', 'last_modified_date': '2023-12-03', 'last_accessed_date': '2023-12-03'}, excluded_embed_metadata_keys=['file_name', 'file_type', 'file_size', 'creation_date', 'last_modified_date', 'last_accessed_date'], excluded_llm_metadata_keys=['file_name', 'file_type', 'file_size', 'creation_date', 'last_modified_date', 'last_accessed_date'], relationships={}, hash='95be2ae1d59fb7d9777eb7b4e22406bbe6c5725dca2ce62edeaf2024101577ba', text='Products:\\n●\\nSmartphones:\\n1.\\niPhone\\n14\\nPro\\nMax\\n2.\\nSamsung\\nGalaxy\\nS23\\nUltra\\n3.\\nGoogle\\nPixel\\n7\\nPro\\n4.\\nOnePlus\\n11\\nPro\\n5.\\nXiaomi\\n13\\nPro\\nCommon\\nCustomer\\nSupport\\nQuestions:\\n1.\\n\"My\\nsmartphone\\'s\\nbattery\\ndrains\\nquickly .\\nCan\\nyou\\nhelp\\nme\\ntroubleshoot\\nthe\\nissue?\"\\nSupport\\nAgent:\\n\"Sure,\\nI\\'d\\nbe\\nhappy\\nto\\nassist\\nyou.\\nPlease\\ntry\\nthe\\nfollowing:\\n●\\nRestart\\nyour\\nphone.\\n●\\nEnsure\\nthe\\nbattery-saving\\nmode\\nis\\noff.\\n●\\nClose\\nany\\nbackground\\napps\\nthat\\nmight\\nbe\\nconsuming\\nexcessive\\nbattery .\\n●\\nCheck\\nif\\nthere\\nare\\nany\\npending\\nsoftware\\nupdates.\\n●\\nIf\\nthe\\nissue\\npersists,\\nconsider\\ngetting\\nyour\\nphone\\'s\\nbattery\\nchecked\\nat\\nan\\nauthorized\\nservice\\ncenter .\"\\n2.\\n\"I\\'m\\nhaving\\ntrouble\\nconnecting\\nmy\\nsmartphone\\nto\\nthe\\nWi-Fi\\nnetwork.\\nWhat\\ncan\\nI\\ndo?\"\\nSupport\\nAgent:\\n\"Let\\'s\\ncheck\\nthe\\nWi-Fi\\nconnection\\nsettings:\\n●\\nVerify\\nthat\\nyou\\'re\\nconnected\\nto\\nthe\\ncorrect\\nnetwork.\\n●\\nEnter\\nthe\\npassword\\ncorrectly .\\n●\\nEnsure\\nyour\\nrouter\\nis\\nfunctioning\\nproperly .\\n●\\nRestart\\nyour\\nsmartphone\\nand\\nrouter .\\n●\\nIf\\nthe\\nissue\\npersists,\\ncheck\\nfor\\nany\\nrouter\\nfirmware\\nupdates\\nor\\ncontact\\nyour\\ninternet\\nservice\\nprovider .\"\\n3.\\n\"My\\nsmartphone\\'s\\nscreen\\nis\\ncracked.\\nCan\\nI\\nget\\nit\\nrepaired?\"', start_char_idx=None, end_char_idx=None, text_template='{metadata_str}\\n\\n{content}', metadata_template='{key}: {value}', metadata_seperator='\\n'),\n",
              " Document(id_='2afbe541-a8be-498c-800e-e6fae49b9486', embedding=None, metadata={'page_label': '2', 'file_name': 'products.pdf', 'file_path': 'data/products.pdf', 'file_type': 'application/pdf', 'file_size': 45566, 'creation_date': '2023-12-03', 'last_modified_date': '2023-12-03', 'last_accessed_date': '2023-12-03'}, excluded_embed_metadata_keys=['file_name', 'file_type', 'file_size', 'creation_date', 'last_modified_date', 'last_accessed_date'], excluded_llm_metadata_keys=['file_name', 'file_type', 'file_size', 'creation_date', 'last_modified_date', 'last_accessed_date'], relationships={}, hash='60dff8010ac6f1c3cd0c2a881523a80339f968df272e706527bc9a282cf1c0e8', text='Support\\nAgent:\\n\"Yes,\\nwe\\noffer\\nscreen\\nrepair\\nservices\\nfor\\nmost\\nsmartphones.\\nPlease\\nvisit\\nour\\nauthorized\\nservice\\ncenter\\nor\\ncontact\\nour\\ncustomer\\nsupport\\nteam\\nfor\\nassistance\\nwith\\nscheduling\\na\\nrepair .\"\\n4.\\n\"I\\'m\\nhaving\\ntrouble\\ninstalling\\nand\\nsetting\\nup\\nan\\napp\\non\\nmy\\nsmartphone.\\nCan\\nyou\\nhelp\\nme?\"\\nSupport\\nAgent:\\n\"Sure,\\nI\\'d\\nbe\\nhappy\\nto\\nassist\\nyou.\\nPlease\\nprovide\\nme\\nwith\\nthe\\nname\\nof\\nthe\\napp\\nand\\nthe\\nspecific\\nissue\\nyou\\'re\\nencountering.\\nI\\'ll\\nguide\\nyou\\nthrough\\nthe\\ninstallation\\nand\\nsetup\\nprocess.\"\\n●\\nClear\\nthe\\ncache\\nand\\ndata\\nof\\nthe\\nGoogle\\nPlay\\nStore\\nor\\nthe\\napp\\nstore\\nyou\\'re\\nusing.\\n●\\nEnsure\\nyour\\ndevice\\nhas\\nsufficient\\nstorage\\nspace.\\n●\\nCheck\\nfor\\nany\\nsystem\\nupdates\\nfor\\nyour\\nphone.\\n●\\nIf\\nthe\\napp\\nrequires\\nspecific\\npermissions,\\nmake\\nsure\\nthey\\nare\\ngranted\\nin\\nthe\\nsettings.\\n5.\\n\"I\\naccidentally\\ndeleted\\nan\\nimportant\\nfile\\nfrom\\nmy\\nsmartphone.\\nCan\\nI\\nrecover\\nit?\"\\nSupport\\nAgent:\\n\"Depending\\non\\nthe\\ntype\\nof\\nfile\\nand\\nthe\\nstorage\\nlocation,\\nit\\nmay\\nbe\\npossible\\nto\\nrecover\\nit.\\nPlease\\ntry\\nthe\\nfollowing:\\n●\\nCheck\\nyour\\nsmartphone\\'s\\nbuilt-in\\nbackup\\nfeature.\\n●\\nUse\\ndata\\nrecovery\\nsoftware.\\n●\\nIf\\nthe\\nfile\\nwas\\nstored\\nin\\ncloud\\nstorage,\\ncheck\\nthe\\nbackup\\noptions\\nprovided\\nby\\nthe\\ncloud\\nservice\\nprovider .\"\\n1.\\n\"My\\nsmartphone\\'s\\ncamera\\nis\\nnot\\nworking\\nproperly .\\nWhat\\nshould\\nI\\ndo?\"\\nSupport\\nAgent:', start_char_idx=None, end_char_idx=None, text_template='{metadata_str}\\n\\n{content}', metadata_template='{key}: {value}', metadata_seperator='\\n'),\n",
              " Document(id_='925a068d-4fac-4474-9933-134b393f4e9b', embedding=None, metadata={'page_label': '3', 'file_name': 'products.pdf', 'file_path': 'data/products.pdf', 'file_type': 'application/pdf', 'file_size': 45566, 'creation_date': '2023-12-03', 'last_modified_date': '2023-12-03', 'last_accessed_date': '2023-12-03'}, excluded_embed_metadata_keys=['file_name', 'file_type', 'file_size', 'creation_date', 'last_modified_date', 'last_accessed_date'], excluded_llm_metadata_keys=['file_name', 'file_type', 'file_size', 'creation_date', 'last_modified_date', 'last_accessed_date'], relationships={}, hash='cac0a50c114661a20e6a530054b24d2ae470a2c7210e32a4c030a49ff0515eb1', text='\"Troubleshooting\\nsmartphone\\ncamera\\nissues\\nusually\\ninvolves\\nchecking\\nthe\\nfollowing:\\n●\\nCamera\\napp:\\nEnsure\\nthe\\ncamera\\napp\\nis\\nupdated\\nand\\nhas\\nnecessary\\npermissions.\\n●\\nLens:\\nCheck\\nif\\nthe\\ncamera\\nlens\\nis\\nclean\\nand\\nfree\\nfrom\\nany\\nobstructions.\\n●\\nFocus:\\nTry\\ndifferent\\nfocusing\\nmodes,\\nsuch\\nas\\nauto,\\nmanual,\\nor\\ntouch\\nfocus.\\n●\\nFlash:\\nCheck\\nif\\nthe\\nflash\\nis\\nturned\\non\\nor\\noff,\\ndepending\\non\\nthe\\nlighting\\nconditions.\\n●\\nReset:\\nTry\\nresetting\\nthe\\ncamera\\napp\\nor\\nrestarting\\nthe\\nphone.\\n●\\nUpdates:\\nEnsure\\nthe\\nphone\\'s\\noperating\\nsystem\\nand\\ncamera\\napp\\nare\\nup\\nto\\ndate.\\n●\\nHardware:\\nIf\\nthe\\nissue\\npersists,\\nit\\nmay\\nindicate\\na\\nhardware\\nproblem.\\nContact\\nthe\\nphone\\nmanufacturer\\nor\\nan\\nauthorized\\nservice\\ncenter .\"\\n2.\\n\"I\\'m\\nunable\\nto\\nmake\\ncalls\\nor\\nsend\\ntext\\nmessages\\nfrom\\nmy\\nsmartphone.\\nCan\\nyou\\nhelp\\nme\\nfix\\nit?\"\\nSupport\\nAgent:\\n\"Troubleshooting\\nphone\\ncall\\nand\\nSMS\\nissues\\ntypically\\ninvolves\\nchecking\\nthe\\nfollowing:\\n●\\nNetwork:\\nEnsure\\nyou\\nhave\\na\\nvalid\\ncellular\\nnetwork\\nconnection.\\n●\\nSignal:\\nCheck\\nthe\\nsignal\\nstrength\\nindicator\\non\\nyour\\nphone.\\n●\\nAirplane\\nmode:\\nDisable\\nairplane\\nmode\\nif\\nit\\'s\\nenabled.\\n●\\nCall\\nforwarding:\\nCheck\\nif\\ncall\\nforwarding\\nis\\nactivated\\nand\\ndisable\\nit\\nif\\nnecessary .\\n●\\nSMS\\nsettings:\\nVerify\\nthat\\nSMS\\nsettings\\nare\\ncorrect\\nfor\\nthe\\nmessaging\\napp\\nyou\\'re\\nusing.\\n●\\nRestart:\\nTry\\nrestarting\\nyour\\nphone.\\n●\\nUpdates:\\nEnsure\\nthe\\nphone\\'s\\noperating\\nsystem\\nand\\nmessaging\\napp\\nare\\nup\\nto\\ndate.\\n●\\nSIM\\ncard:\\nCheck\\nif\\nthe\\nSIM\\ncard\\nis\\nproperly\\ninserted.\\n●\\nProvider:\\nContact\\nyour\\ncellular\\nservice\\nprovider\\nif\\nthe\\nissue\\npersists.\"\\n3.\\n\"My\\nsmartphone\\nis\\noverheating.\\nWhat\\ncan\\nI\\ndo\\nto\\ncool\\nit\\ndown?\"\\nSupport\\nAgent:\\n\"Overheating\\ncan\\nbe\\ncaused\\nby\\nvarious\\nfactors,\\nand\\nhere\\nare\\nsome\\ntips\\nto\\ncool\\ndown\\nyour\\nsmartphone:\\n●\\nAvoid\\ndirect\\nsunlight:\\nKeep\\nyour\\nphone\\nout\\nof\\ndirect\\nsunlight,\\nespecially\\nin\\nhot\\nweather .\\n●\\nRemove\\nthe\\ncase:\\nIf\\nthe\\nphone\\'s\\ncase\\nis\\ninsulating\\nit,\\nremove\\nit\\ntemporarily\\nto\\nallow\\nheat\\nto\\ndissipate.', start_char_idx=None, end_char_idx=None, text_template='{metadata_str}\\n\\n{content}', metadata_template='{key}: {value}', metadata_seperator='\\n'),\n",
              " Document(id_='237b2201-b392-4453-9f3c-a7f20f1d11b7', embedding=None, metadata={'page_label': '4', 'file_name': 'products.pdf', 'file_path': 'data/products.pdf', 'file_type': 'application/pdf', 'file_size': 45566, 'creation_date': '2023-12-03', 'last_modified_date': '2023-12-03', 'last_accessed_date': '2023-12-03'}, excluded_embed_metadata_keys=['file_name', 'file_type', 'file_size', 'creation_date', 'last_modified_date', 'last_accessed_date'], excluded_llm_metadata_keys=['file_name', 'file_type', 'file_size', 'creation_date', 'last_modified_date', 'last_accessed_date'], relationships={}, hash='371af4b6aab21d3b3c1d22ce4e3aaa1a3d1e98e79af624159ab7e587e2150a4a', text='●\\nClose\\nbackground\\napps:\\nClose\\nany\\nbackground\\napps\\nthat\\nmight\\nbe\\nconsuming\\nexcessive\\nresources,\\nespecially\\npower-intensive\\nones\\nlike\\ngames\\nor\\nstreaming\\napps.\\n●\\nTurn\\noff\\nunnecessary\\nfeatures:\\nDisable\\nfeatures\\nlike\\nBluetooth,\\nWi-Fi,\\nor\\nGPS\\nif\\nnot\\nin\\nuse.\\n●\\nCool\\ndown\\nthe\\nenvironment:\\nMove\\nyour\\nphone\\nto\\na\\ncooler\\nlocation,\\nsuch\\nas\\nan\\nair-conditioned\\nroom.\\n●\\nAvoid\\ncharging\\nwhile\\nusing:\\nDon\\'t\\ncharge\\nyour\\nphone\\nwhile\\nusing\\nit\\nextensively ,\\nas\\nthis\\ncan\\ngenerate\\nadditional\\nheat.\\n●\\nMonitor\\ntemperature:\\nKeep\\nan\\neye\\non\\nyour\\nphone\\'s\\ntemperature\\nand\\navoid\\nexcessive\\nheat\\nexposure.\\n●\\nSeek\\nprofessional\\nhelp:\\nIf\\nthe\\noverheating\\npersists\\nor\\ncauses\\nother\\nissues,\\nconsult\\na\\nprofessional\\ntechnician.\"\\n4.\\n\"I\\nforgot\\nmy\\nsmartphone\\'s\\nlock\\nscreen\\npassword.\\nWhat\\ncan\\nI\\ndo\\nto\\nunlock\\nit?\"\\nSupport\\nAgent:\\n\"Unlocking\\na\\nphone\\nwithout\\nthe\\nlock\\nscreen\\npassword\\ndepends\\non\\nthe\\nphone\\'s\\nsecurity\\nsettings\\nand\\nthe\\nspecific\\nmethod\\nused\\nto\\nset\\nthe\\npassword.\\nHere\\nare\\nsome\\ngeneral\\noptions:\\n●\\nSecurity\\nquestions:\\nIf\\nyou\\nset\\nsecurity\\nquestions,\\nanswer\\nthem\\ncorrectly\\nto\\nunlock\\nthe\\nphone.\\n●\\nGoogle\\nFind\\nMy\\nDevice:\\nIf\\nyou\\nhave\\na\\nGoogle\\naccount\\nconnected\\nto\\nyour\\nphone,\\nuse\\nGoogle\\nFind\\nMy\\nDevice\\nto\\nunlock\\nit\\nremotely .\\n●\\nFactory\\nreset:\\nAs\\na\\nlast\\nresort,\\nyou\\ncan\\nperform\\na\\nfactory\\nreset,\\nwhich\\nwill\\nerase\\nall\\ndata\\nand\\nrestore\\nthe\\nphone\\nto\\nits\\ndefault\\nsettings.\\n●\\nProfessional\\nhelp:\\nIf\\nnone\\nof\\nthese\\nmethods\\nwork,\\ncontact\\nthe\\nphone\\nmanufacturer\\nor\\nan\\nauthorized\\nservice\\ncenter\\nfor\\nassistance.\"\\n5.\\n\"I\\'m\\nnot\\nsatisfied\\nwith\\nthe\\nperformance\\nof\\nmy\\nsmartphone.\\nCan\\nI\\nreturn\\nit\\nfor\\na\\nrefund\\nor\\nexchange?\"\\nSupport\\nAgent:\\n\"Return\\nand\\nexchange\\npolicies\\nvary\\ndepending\\non\\nthe\\nretailer\\nor\\nmanufacturer .\\nGenerally ,\\nyou\\nmay\\nbe\\nable\\nto\\nreturn\\nor\\nexchange\\na\\nsmartphone\\nwithin\\na\\ncertain\\ntimeframe\\nif\\nit\\nmeets\\nspecific\\nconditions,\\nsuch\\nas\\nbeing\\nunopened,\\nundamaged,\\nand\\nwith\\nthe\\noriginal\\npackaging.\\nContact\\nthe\\nretailer\\nor\\nmanufacturer\\nto\\ninquire\\nabout\\ntheir\\nreturn\\nand\\nexchange\\npolicy\\nand\\nthe\\nspecific\\nsteps\\ninvolved.', start_char_idx=None, end_char_idx=None, text_template='{metadata_str}\\n\\n{content}', metadata_template='{key}: {value}', metadata_seperator='\\n'),\n",
              " Document(id_='bc578f8b-35b8-43d3-a1b5-5463ebf97df6', embedding=None, metadata={'page_label': '5', 'file_name': 'products.pdf', 'file_path': 'data/products.pdf', 'file_type': 'application/pdf', 'file_size': 45566, 'creation_date': '2023-12-03', 'last_modified_date': '2023-12-03', 'last_accessed_date': '2023-12-03'}, excluded_embed_metadata_keys=['file_name', 'file_type', 'file_size', 'creation_date', 'last_modified_date', 'last_accessed_date'], excluded_llm_metadata_keys=['file_name', 'file_type', 'file_size', 'creation_date', 'last_modified_date', 'last_accessed_date'], relationships={}, hash='4786e8bd39d309608d2e4d091990df901bead433f1ce4426db990d83d98302f3', text='Here\\nare\\nsome\\nadditional\\nfactors\\nto\\nconsider:\\n●\\nWarranty:\\nCheck\\nif\\nyour\\nsmartphone\\nis\\nstill\\nunder\\nwarranty ,\\nwhich\\nmay\\ncover\\ncertain\\nperformance\\nissues.\\n●\\nTroubleshooting:\\nBefore\\ninitiating\\na\\nreturn,\\ntry\\ntroubleshooting\\nthe\\nperformance\\nissues\\nto\\nsee\\nif\\nthey\\ncan\\nbe\\nresolved.\\n●\\nData\\nbackup:\\nBefore\\nreturning\\nor\\nexchanging\\nyour\\nphone,\\nensure\\nyou\\nhave\\nbacked\\nup\\nall\\nyour\\nimportant\\ndata.\"', start_char_idx=None, end_char_idx=None, text_template='{metadata_str}\\n\\n{content}', metadata_template='{key}: {value}', metadata_seperator='\\n')]"
            ]
          },
          "metadata": {},
          "execution_count": 5
        }
      ],
      "source": [
        "documents"
      ]
    },
    {
      "cell_type": "markdown",
      "source": [
        "### *PaLM2*\n",
        "\n",
        "<img src=\"https://drive.google.com/uc?id=16AGWQnUczvUPJ_7H7ftpSFcSXYS7uXZo\" width=\"600\" height=\"400\">\n",
        "\n",
        "\n",
        "\n",
        "\n",
        " PaLM2 excels at advanced reasoning tasks, including code and math, classification and question answering, translation and multilingual proficiency, and natural language generation https://ai.google/discover/palm2/\n"
      ],
      "metadata": {
        "id": "kdkntAFQdHDt"
      }
    },
    {
      "cell_type": "markdown",
      "metadata": {
        "id": "wyBOMMNmt_Wd"
      },
      "source": [
        "Get the API key from PaLM, https://developers.generativeai.google/products/palm  "
      ]
    },
    {
      "cell_type": "code",
      "execution_count": null,
      "metadata": {
        "id": "Fd_HiB8xn5Dj"
      },
      "outputs": [],
      "source": [
        "# Set the Google API key for PaLM\n",
        "os.environ['GOOGLE_API_KEY'] = 'YOUR_API_KEY'\n"
      ]
    },
    {
      "cell_type": "code",
      "execution_count": null,
      "metadata": {
        "id": "tMbiYzR_pse5"
      },
      "outputs": [],
      "source": [
        "# Initialize the PaLM language model\n",
        "llm = PaLM()"
      ]
    },
    {
      "cell_type": "markdown",
      "source": [
        "### Initialize the Hugging Face embedding model https://huggingface.co/BAAI/bge-large-en-v1.5\n",
        "\n"
      ],
      "metadata": {
        "id": "Bu-y63YPgy8L"
      }
    },
    {
      "cell_type": "markdown",
      "source": [
        "To learn more about embeddings\n",
        "* video-lecture https://developers.google.com/machine-learning/crash-course/embeddings/\n",
        "* https://www.tensorflow.org/text/tutorials/word2vec"
      ],
      "metadata": {
        "id": "tCQz2jyemjeN"
      }
    },
    {
      "cell_type": "code",
      "execution_count": null,
      "metadata": {
        "id": "n36XIfu0tMVN",
        "colab": {
          "base_uri": "https://localhost:8080/",
          "height": 209,
          "referenced_widgets": [
            "99685b333db04af4b5439d022f99ca87",
            "547034ece051460cae6594f20d447bbb",
            "3df377d771b24a039563e2d9414ccb90",
            "29f85e5fb79b4c368a376d5fe5650fcc",
            "a8d28bdf4d0a4d2fa71e6c58e23deee2",
            "ab2bcbebdff344f8b1d4804ca68fc8ec",
            "0af38304abcf4e07ad643742a5d63427",
            "8d9b25e8b78b477687999c788077859e",
            "640b819288bd411babb05730eb770512",
            "6be0db11fd85471cb8ca8ea0c34d9c99",
            "88aed46522c644bbb7571209fe9700e3",
            "c40092b6d67547e5946ad2ce29cd014f",
            "9b02941daef647bdb62e4141c2d4b60e",
            "a410508b988c403c8d9e761fc0737d14",
            "36d41c3e89a9485091044fe7c676f692",
            "61793ef829354d8fb1c5b82fa0762a4d",
            "6acd41f49c4c4547b6a53f87785253ce",
            "6ee15e3f6a004919a9b20c7d4742c491",
            "70e0cd6cec274e60ae1a53b7954f04f4",
            "890456dc69124da2b80da4659adeb164",
            "a4656deb570d40a0b7cee2b0da591e5c",
            "de2f19b010b74ed3aece4ae79940967f",
            "484bac9f2f594fdebe36bca6d9a993a9",
            "685ceb82eef64fa5bee336aebfb27cc5",
            "29dca243a58741aabf1be0781a8a72a3",
            "f780d25532b644458076f765b049eab3",
            "5675181fdbe246a183444de91b987e53",
            "c63777d9678c42f78d6b262ce2c8651d",
            "fa77efdf94164f829b6d4c6ecff0ce12",
            "2454ececf2af41b996891c9f1fa2e7d7",
            "d223e13057ad4389b52aaf7113b203d5",
            "43e45edfc664420b838159954ce27d6c",
            "e0cfcee648bf46f7a1f24456ed4e08a8",
            "30b1a6786c80433991d9565a544ebdb4",
            "3e41935b1344488f9470608424fb8034",
            "2aad87f560514b24999c01e6140234ff",
            "83dc423dc069499fbcf6040a1e4d3b1c",
            "84b185554ccc481ab6becbb5ff290a98",
            "d57bdea61dc14037aef10d6c2d0295ed",
            "9d5120822bfb4cdbaff4bf8ff1806311",
            "c733cdba3fe84654946b43c2649d6b66",
            "4de90f7d5d7546b9a9e76a1f0e673061",
            "29ad6cdc33dc4584a663e5949d538ba0",
            "03035faeaf8946bfb1e90bf73a8e4acd",
            "edc6220b181f42c8ad91536c35cb7317",
            "305f42cc5de443cd97163a502b924ebc",
            "95fd789cc87d4c13905b715ad2c6c886",
            "4517a8d811284162b9a11f7ea7935f03",
            "295973a497e34b0f9c6303dc285b2ce5",
            "36ec7816aceb4423a45bd3b855042cce",
            "7ba2bd658372478d90a03397b97908a4",
            "64be443548e84dc89fdd127b84345004",
            "13b825f0dd9d45a4955dd1966134676a",
            "44dbac591843447e94dc49c7df0b4df8",
            "bf0ab81c90b24bb7b16fa8d0f59c20b2",
            "d59316a4c34c426cab4c94f8a0037604",
            "c248c0c8251a4ad3aee3e9371353cd7d",
            "d0c26192f09a44e4a44c62252f70eb86",
            "e2061ed9cd64455a940d70d502b606d9",
            "95dee0d9d1154763be2304aaf7d26844",
            "d400d8ba66ba423992c3238f1d53688c",
            "f1f37619735049b6b84761bdbc5df503",
            "a393b82bbfcc4ecda823593488705f3b",
            "9ce0244f38f840af94fe7f8a3c2f033c",
            "06d175d1c0e34050867fd8aca67b97be",
            "21596d6320ac4f05bc4f36ee532dae8e"
          ]
        },
        "outputId": "2b16133f-6edc-4dac-9835-b8d0060f0b81"
      },
      "outputs": [
        {
          "output_type": "display_data",
          "data": {
            "text/plain": [
              "config.json:   0%|          | 0.00/779 [00:00<?, ?B/s]"
            ],
            "application/vnd.jupyter.widget-view+json": {
              "version_major": 2,
              "version_minor": 0,
              "model_id": "99685b333db04af4b5439d022f99ca87"
            }
          },
          "metadata": {}
        },
        {
          "output_type": "display_data",
          "data": {
            "text/plain": [
              "pytorch_model.bin:   0%|          | 0.00/1.34G [00:00<?, ?B/s]"
            ],
            "application/vnd.jupyter.widget-view+json": {
              "version_major": 2,
              "version_minor": 0,
              "model_id": "c40092b6d67547e5946ad2ce29cd014f"
            }
          },
          "metadata": {}
        },
        {
          "output_type": "display_data",
          "data": {
            "text/plain": [
              "tokenizer_config.json:   0%|          | 0.00/366 [00:00<?, ?B/s]"
            ],
            "application/vnd.jupyter.widget-view+json": {
              "version_major": 2,
              "version_minor": 0,
              "model_id": "484bac9f2f594fdebe36bca6d9a993a9"
            }
          },
          "metadata": {}
        },
        {
          "output_type": "display_data",
          "data": {
            "text/plain": [
              "vocab.txt:   0%|          | 0.00/232k [00:00<?, ?B/s]"
            ],
            "application/vnd.jupyter.widget-view+json": {
              "version_major": 2,
              "version_minor": 0,
              "model_id": "30b1a6786c80433991d9565a544ebdb4"
            }
          },
          "metadata": {}
        },
        {
          "output_type": "display_data",
          "data": {
            "text/plain": [
              "tokenizer.json:   0%|          | 0.00/711k [00:00<?, ?B/s]"
            ],
            "application/vnd.jupyter.widget-view+json": {
              "version_major": 2,
              "version_minor": 0,
              "model_id": "edc6220b181f42c8ad91536c35cb7317"
            }
          },
          "metadata": {}
        },
        {
          "output_type": "display_data",
          "data": {
            "text/plain": [
              "special_tokens_map.json:   0%|          | 0.00/125 [00:00<?, ?B/s]"
            ],
            "application/vnd.jupyter.widget-view+json": {
              "version_major": 2,
              "version_minor": 0,
              "model_id": "d59316a4c34c426cab4c94f8a0037604"
            }
          },
          "metadata": {}
        }
      ],
      "source": [
        "# Initialize the Hugging Face embedding model\n",
        "embed_model = HuggingFaceEmbedding(model_name='BAAI/bge-large-en-v1.5')"
      ]
    },
    {
      "cell_type": "markdown",
      "source": [
        "### Using service context to customize the llm, embeddings,  truncate and repack text chunks to fit in the model context window.\n",
        "\n",
        "The ServiceContext is a bundle of commonly used resources used during the indexing and querying stage in a LlamaIndex pipeline/application\n",
        "\n",
        "https://docs.llamaindex.ai/en/stable/module_guides/supporting_modules/service_context.html"
      ],
      "metadata": {
        "id": "U6M-qWxsrMbt"
      }
    },
    {
      "cell_type": "code",
      "execution_count": null,
      "metadata": {
        "id": "xY3q6JU8pv-y",
        "colab": {
          "base_uri": "https://localhost:8080/"
        },
        "outputId": "cf9d3fc8-9ff5-495d-f6bc-08c2bff2314e"
      },
      "outputs": [
        {
          "output_type": "stream",
          "name": "stderr",
          "text": [
            "[nltk_data] Downloading package punkt to /tmp/llama_index...\n",
            "[nltk_data]   Unzipping tokenizers/punkt.zip.\n"
          ]
        }
      ],
      "source": [
        "#Create a service context for the index.\n",
        "service_context = ServiceContext.from_defaults(llm=llm, embed_model=embed_model, chunk_size=800, chunk_overlap=20 )"
      ]
    },
    {
      "cell_type": "markdown",
      "source": [
        "## Indexing\n",
        "\n",
        "###Index is a data structure composed of Document objects, designed to enable querying by an LLM. Index is designed to be complementary to your querying strategy. The **VectorStoreIndex** takes your Documents and splits them up into Nodes. It then creates vector embeddings of the text of every node, ready to be queried by an LLM.\n",
        "\n",
        "\n",
        "\n",
        "https://docs.llamaindex.ai/en/stable/api_reference/indices/vector_store.html"
      ],
      "metadata": {
        "id": "cmLOhjxguFdx"
      }
    },
    {
      "cell_type": "code",
      "execution_count": null,
      "metadata": {
        "id": "5SqspHMKuR1V",
        "colab": {
          "base_uri": "https://localhost:8080/",
          "height": 81,
          "referenced_widgets": [
            "99e5f6319cd743ad8620f58699576b6b",
            "118e6e1964204e158c9f4de0eb0cf079",
            "c3577e06820f405f8087bf7cff729e3e",
            "ac2aa504ff27418d8b7f0ef5d45235f1",
            "21b50faaebfb4b8ea6c96362626d7a7a",
            "bbc5d6d9dfb24b4c9006beaa5976fa24",
            "4f82359db1c94ea58303a4f6ce7e788d",
            "ab7c1bbce2724f239a4b267752cc1038",
            "111d4b76195c4db2aea678ef53cb5800",
            "022d648df8bf4a3eb39d7b4b4e8588c8",
            "1cca5b04611d499e858b26573b4e931c",
            "fcc39aed425e4943ae90369fb0d7b8a1",
            "60326d11015943daa6eba47db985107c",
            "e39b2560f84a409daa27e8bfa571124a",
            "bd2c2a0cc15741f9b2c5295e6be98d32",
            "d5c4b5fcf6aa4e198cb8bccce832392a",
            "768fef0967404df584a3a04ceeab0528",
            "2c9a93156826451288dccc8e7130dc99",
            "d264f86d1cd84f9182d787359dec0180",
            "ebe3c5f5eef148deafe26fbccf40dd07",
            "b3ab6a5cc23044f8aedab9943096e19e",
            "44117fdb14324f90b139a24cac9e12c2"
          ]
        },
        "outputId": "f89f07c3-0b7e-422f-bb4e-91a9de967b20"
      },
      "outputs": [
        {
          "output_type": "display_data",
          "data": {
            "text/plain": [
              "Parsing nodes:   0%|          | 0/5 [00:00<?, ?it/s]"
            ],
            "application/vnd.jupyter.widget-view+json": {
              "version_major": 2,
              "version_minor": 0,
              "model_id": "99e5f6319cd743ad8620f58699576b6b"
            }
          },
          "metadata": {}
        },
        {
          "output_type": "display_data",
          "data": {
            "text/plain": [
              "Generating embeddings:   0%|          | 0/5 [00:00<?, ?it/s]"
            ],
            "application/vnd.jupyter.widget-view+json": {
              "version_major": 2,
              "version_minor": 0,
              "model_id": "fcc39aed425e4943ae90369fb0d7b8a1"
            }
          },
          "metadata": {}
        }
      ],
      "source": [
        "# Create a VectorStoreIndex from the documents and service context\n",
        "index = VectorStoreIndex.from_documents(documents, service_context=service_context, show_progress=True)"
      ]
    },
    {
      "cell_type": "markdown",
      "source": [
        "## Storing"
      ],
      "metadata": {
        "id": "3pIqe65qxSHn"
      }
    },
    {
      "cell_type": "markdown",
      "source": [
        "Once you have data loaded and indexed, you will probably want to store it to avoid the time and cost of re-indexing it. By default, your indexed data is stored only in memory.\n",
        "The simplest way to store your indexed data is to use the built-in .persist() method of every Index, which writes all the data to disk at the location specified. This works for any type of index.\n",
        "\n",
        "\n",
        "https://docs.llamaindex.ai/en/stable/understanding/storing/storing.html\n",
        "\n",
        "\n",
        "\n"
      ],
      "metadata": {
        "id": "0mfeUXTmw14d"
      }
    },
    {
      "cell_type": "code",
      "execution_count": null,
      "metadata": {
        "id": "9eYhf79aurlv"
      },
      "outputs": [],
      "source": [
        "# Persist the index to storage for later use\n",
        "index.storage_context.persist()"
      ]
    },
    {
      "cell_type": "markdown",
      "source": [
        "## Querying"
      ],
      "metadata": {
        "id": "-NiGsIETxkM5"
      }
    },
    {
      "cell_type": "markdown",
      "source": [
        "querying is just a prompt to an LLM: it can be a question and get an answer, or a request for summarization, or a much more complex instruction.\n",
        "\n"
      ],
      "metadata": {
        "id": "0yzCxT99xz3U"
      }
    },
    {
      "cell_type": "markdown",
      "source": [
        "The basis of all querying is the QueryEngine. The simplest way to get a QueryEngine is to get your index to create one."
      ],
      "metadata": {
        "id": "NwuaG_MtyZlY"
      }
    },
    {
      "cell_type": "markdown",
      "source": [
        "### Stages of querying\n",
        "\n",
        "\n",
        "* Retrieval is finding and returning the documents from your Index that best answer your query. The most popular kind of retrieval is \"top-k\" semantic retrieval.\n",
        "\n",
        "* Postprocessing is the process of optionally reranking, transforming, or filtering the received Nodes. For example, you may mandate that they have particular metadata, like keywords, added.\n",
        "\n",
        "* Response synthesis is the process of sending your LLM a request for a response by combining your prompt, your inquiry, and your most pertinent facts.\n",
        "\n",
        "https://docs.llamaindex.ai/en/stable/understanding/querying/querying.html"
      ],
      "metadata": {
        "id": "p4-R6w5Vy_RL"
      }
    },
    {
      "cell_type": "code",
      "execution_count": null,
      "metadata": {
        "id": "QjVrXKMyu2NL"
      },
      "outputs": [],
      "source": [
        "# Create a query engine from the index\n",
        "query_engine = index.as_query_engine()\n",
        "response = query_engine.query(\n",
        "    \"trouble connecting to wifi network\"\n",
        ")"
      ]
    },
    {
      "cell_type": "code",
      "source": [
        "print(response)"
      ],
      "metadata": {
        "colab": {
          "base_uri": "https://localhost:8080/"
        },
        "id": "RhyPnnIO1knJ",
        "outputId": "597fdcc8-1496-41da-a70a-3abd8320e692"
      },
      "execution_count": null,
      "outputs": [
        {
          "output_type": "stream",
          "name": "stdout",
          "text": [
            "Verify that you're connected to the correct network.\n",
            "Enter the password correctly.\n",
            "Ensure your router is functioning properly.\n",
            "Restart your smartphone and router.\n",
            "If the issue persists, check for any router firmware updates or contact your internet service provider.\n"
          ]
        }
      ]
    },
    {
      "cell_type": "markdown",
      "source": [
        "### Customizing the RAG pipeline"
      ],
      "metadata": {
        "id": "XLwGKm480TgQ"
      }
    },
    {
      "cell_type": "markdown",
      "source": [
        "#### Using different response modes.\n",
        "* tree_summarize\n",
        "* refine\n",
        "* compact\n",
        "* simple_summarize\n",
        "* accumulate\n",
        "\n",
        "\n",
        "\n",
        "\n",
        "\n"
      ],
      "metadata": {
        "id": "S1JpTc631B5y"
      }
    },
    {
      "cell_type": "code",
      "source": [
        "#response_mode=\"tree_summarize\"\n",
        "query_engine = index.as_query_engine(response_mode='tree_summarize')\n",
        "response = query_engine.query(\n",
        "    \"trouble connecting to wifi network\"\n",
        ")"
      ],
      "metadata": {
        "id": "fpW1NNuJ09uC"
      },
      "execution_count": null,
      "outputs": []
    },
    {
      "cell_type": "code",
      "source": [
        "print(response)"
      ],
      "metadata": {
        "colab": {
          "base_uri": "https://localhost:8080/"
        },
        "id": "6LG_1qUDGsWJ",
        "outputId": "b9ca0d38-1bbe-4145-fed9-4da4f5b36f0c"
      },
      "execution_count": null,
      "outputs": [
        {
          "output_type": "stream",
          "name": "stdout",
          "text": [
            "To troubleshoot trouble connecting to wifi network, you can:\n",
            "1. Verify that you're connected to the correct network.\n",
            "2. Enter the password correctly.\n",
            "3. Ensure your router is functioning properly.\n",
            "4. Restart your smartphone and router.\n",
            "5. Check for any router firmware updates.\n",
            "6. Contact your internet service provider.\n"
          ]
        }
      ]
    },
    {
      "cell_type": "markdown",
      "source": [
        "#### Retrieving more context\n",
        "\n",
        "Given a user query, retrievers are in charge of obtaining the most pertinent context (or chat message).\n",
        "\n",
        "It can be defined individually or constructed on top of indexes. It is a fundamental component of query engines (as well as chat engines) that help them retrieve pertinent context."
      ],
      "metadata": {
        "id": "tDhIkrC318Gj"
      }
    },
    {
      "cell_type": "code",
      "source": [
        "#similarity_top_k=5\n",
        "\n",
        "query_engine = index.as_query_engine(similarity_top_k=2)\n",
        "response = query_engine.query(\n",
        "    \"trouble connecting to wifi network\"\n",
        ")"
      ],
      "metadata": {
        "id": "_yFvk0gt4ueg"
      },
      "execution_count": null,
      "outputs": []
    },
    {
      "cell_type": "code",
      "source": [
        "print(response)"
      ],
      "metadata": {
        "colab": {
          "base_uri": "https://localhost:8080/"
        },
        "id": "eTm2-w1xHJ2x",
        "outputId": "8d13211d-2039-42a2-b5a4-2a103dc6cae2"
      },
      "execution_count": null,
      "outputs": [
        {
          "output_type": "stream",
          "name": "stdout",
          "text": [
            "Verify that you're connected to the correct network.\n",
            "Enter the password correctly.\n",
            "Ensure your router is functioning properly.\n",
            "Restart your smartphone and router.\n",
            "If the issue persists, check for any router firmware updates or contact your internet service provider.\n"
          ]
        }
      ]
    },
    {
      "cell_type": "markdown",
      "source": [
        "#### custome query templates\n",
        "\n"
      ],
      "metadata": {
        "id": "vWSJ_8T05iBs"
      }
    },
    {
      "cell_type": "code",
      "source": [
        "from llama_index import Prompt\n",
        "# Define a custom prompt\n",
        "template = (\n",
        "    \"We have provided context information below. \\n\"\n",
        "    \"---------------------\\n\"\n",
        "    \"{context_str}\"\n",
        "    \"\\n---------------------\\n\"\n",
        "    \"Given this information, please answer the question and each answer should start with code word Doc chat:. And if the answer is not in given context should reply with sorry. {query_str}\\n\"\n",
        ")\n",
        "qa_template = Prompt(template)"
      ],
      "metadata": {
        "id": "5fkpMJWE6WMs"
      },
      "execution_count": null,
      "outputs": []
    },
    {
      "cell_type": "code",
      "source": [
        "# Use the custom prompt when querying\n",
        "query_engine = index.as_query_engine(text_qa_template=qa_template)\n",
        "response = query_engine.query(\n",
        "    \"trouble connecting to wifi network\"\n",
        ")\n",
        "print(response)"
      ],
      "metadata": {
        "colab": {
          "base_uri": "https://localhost:8080/"
        },
        "id": "dOCPLk_d6vtd",
        "outputId": "91322680-378b-4903-ae22-9081335e635d"
      },
      "execution_count": null,
      "outputs": [
        {
          "output_type": "stream",
          "name": "stdout",
          "text": [
            "Doc chat: Let's check the Wi-Fi connection settings:\n",
            "\n",
            "● Verify that you're connected to the correct network.\n",
            "● Enter the password correctly.\n",
            "● Ensure your router is functioning properly.\n",
            "● Restart your smartphone and router.\n",
            "● If the issue persists, check for any router firmware updates or contact your internet service provider.\n"
          ]
        }
      ]
    },
    {
      "cell_type": "code",
      "execution_count": null,
      "metadata": {
        "id": "yNv_SogIw8ON",
        "colab": {
          "base_uri": "https://localhost:8080/"
        },
        "outputId": "d2b9db72-7b54-445d-eff1-5df63fd29944"
      },
      "outputs": [
        {
          "output_type": "stream",
          "name": "stdout",
          "text": [
            "\u001b[2K     \u001b[90m━━━━━━━━━━━━━━━━━━━━━━━━━━━━━━━━━━━━━━━━\u001b[0m \u001b[32m16.5/16.5 MB\u001b[0m \u001b[31m53.2 MB/s\u001b[0m eta \u001b[36m0:00:00\u001b[0m\n",
            "\u001b[2K     \u001b[90m━━━━━━━━━━━━━━━━━━━━━━━━━━━━━━━━━━━━━━━━\u001b[0m \u001b[32m92.9/92.9 kB\u001b[0m \u001b[31m10.4 MB/s\u001b[0m eta \u001b[36m0:00:00\u001b[0m\n",
            "\u001b[?25h  Preparing metadata (setup.py) ... \u001b[?25l\u001b[?25hdone\n",
            "\u001b[2K     \u001b[90m━━━━━━━━━━━━━━━━━━━━━━━━━━━━━━━━━━━━━━━━\u001b[0m \u001b[32m302.7/302.7 kB\u001b[0m \u001b[31m40.2 MB/s\u001b[0m eta \u001b[36m0:00:00\u001b[0m\n",
            "\u001b[2K     \u001b[90m━━━━━━━━━━━━━━━━━━━━━━━━━━━━━━━━━━━━━━━━\u001b[0m \u001b[32m75.0/75.0 kB\u001b[0m \u001b[31m9.8 MB/s\u001b[0m eta \u001b[36m0:00:00\u001b[0m\n",
            "\u001b[2K     \u001b[90m━━━━━━━━━━━━━━━━━━━━━━━━━━━━━━━━━━━━━━━━\u001b[0m \u001b[32m138.7/138.7 kB\u001b[0m \u001b[31m19.5 MB/s\u001b[0m eta \u001b[36m0:00:00\u001b[0m\n",
            "\u001b[2K     \u001b[90m━━━━━━━━━━━━━━━━━━━━━━━━━━━━━━━━━━━━━━━━\u001b[0m \u001b[32m381.9/381.9 kB\u001b[0m \u001b[31m46.3 MB/s\u001b[0m eta \u001b[36m0:00:00\u001b[0m\n",
            "\u001b[2K     \u001b[90m━━━━━━━━━━━━━━━━━━━━━━━━━━━━━━━━━━━━━━━━\u001b[0m \u001b[32m45.7/45.7 kB\u001b[0m \u001b[31m7.1 MB/s\u001b[0m eta \u001b[36m0:00:00\u001b[0m\n",
            "\u001b[2K     \u001b[90m━━━━━━━━━━━━━━━━━━━━━━━━━━━━━━━━━━━━━━━━\u001b[0m \u001b[32m59.7/59.7 kB\u001b[0m \u001b[31m8.4 MB/s\u001b[0m eta \u001b[36m0:00:00\u001b[0m\n",
            "\u001b[2K     \u001b[90m━━━━━━━━━━━━━━━━━━━━━━━━━━━━━━━━━━━━━━━━\u001b[0m \u001b[32m129.9/129.9 kB\u001b[0m \u001b[31m18.8 MB/s\u001b[0m eta \u001b[36m0:00:00\u001b[0m\n",
            "\u001b[2K     \u001b[90m━━━━━━━━━━━━━━━━━━━━━━━━━━━━━━━━━━━━━━━━\u001b[0m \u001b[32m2.1/2.1 MB\u001b[0m \u001b[31m76.9 MB/s\u001b[0m eta \u001b[36m0:00:00\u001b[0m\n",
            "\u001b[2K     \u001b[90m━━━━━━━━━━━━━━━━━━━━━━━━━━━━━━━━━━━━━━━━\u001b[0m \u001b[32m58.3/58.3 kB\u001b[0m \u001b[31m7.5 MB/s\u001b[0m eta \u001b[36m0:00:00\u001b[0m\n",
            "\u001b[2K     \u001b[90m━━━━━━━━━━━━━━━━━━━━━━━━━━━━━━━━━━━━━━━━\u001b[0m \u001b[32m67.0/67.0 kB\u001b[0m \u001b[31m10.0 MB/s\u001b[0m eta \u001b[36m0:00:00\u001b[0m\n",
            "\u001b[2K     \u001b[90m━━━━━━━━━━━━━━━━━━━━━━━━━━━━━━━━━━━━━━━━\u001b[0m \u001b[32m76.9/76.9 kB\u001b[0m \u001b[31m12.7 MB/s\u001b[0m eta \u001b[36m0:00:00\u001b[0m\n",
            "\u001b[?25h  Building wheel for ffmpy (setup.py) ... \u001b[?25l\u001b[?25hdone\n",
            "\u001b[31mERROR: pip's dependency resolver does not currently take into account all the packages that are installed. This behaviour is the source of the following dependency conflicts.\n",
            "lida 0.0.10 requires kaleido, which is not installed.\n",
            "llmx 0.0.15a0 requires cohere, which is not installed.\n",
            "llmx 0.0.15a0 requires openai, which is not installed.\n",
            "llmx 0.0.15a0 requires tiktoken, which is not installed.\n",
            "tensorflow-probability 0.22.0 requires typing-extensions<4.6.0, but you have typing-extensions 4.8.0 which is incompatible.\u001b[0m\u001b[31m\n",
            "\u001b[0m"
          ]
        }
      ],
      "source": [
        "!pip install -q gradio\n"
      ]
    },
    {
      "cell_type": "code",
      "execution_count": null,
      "metadata": {
        "id": "YZ5jg_zHwJSq"
      },
      "outputs": [],
      "source": [
        "import gradio as gr\n"
      ]
    },
    {
      "cell_type": "code",
      "execution_count": null,
      "metadata": {
        "id": "Gc2Bofktxl9M",
        "colab": {
          "base_uri": "https://localhost:8080/",
          "height": 646
        },
        "outputId": "ac1de619-3b47-4f5f-d1b2-055c0eb976f6"
      },
      "outputs": [
        {
          "output_type": "stream",
          "name": "stdout",
          "text": [
            "Setting queue=True in a Colab notebook requires sharing enabled. Setting `share=True` (you can turn this off by setting `share=False` in `launch()` explicitly).\n",
            "\n",
            "Colab notebook detected. To show errors in colab notebook, set debug=True in launch()\n",
            "Running on public URL: https://0ec3f7226f259630fb.gradio.live\n",
            "\n",
            "This share link expires in 72 hours. For free permanent hosting and GPU upgrades, run `gradio deploy` from Terminal to deploy to Spaces (https://huggingface.co/spaces)\n"
          ]
        },
        {
          "output_type": "display_data",
          "data": {
            "text/plain": [
              "<IPython.core.display.HTML object>"
            ],
            "text/html": [
              "<div><iframe src=\"https://0ec3f7226f259630fb.gradio.live\" width=\"100%\" height=\"500\" allow=\"autoplay; camera; microphone; clipboard-read; clipboard-write;\" frameborder=\"0\" allowfullscreen></iframe></div>"
            ]
          },
          "metadata": {}
        },
        {
          "output_type": "execute_result",
          "data": {
            "text/plain": []
          },
          "metadata": {},
          "execution_count": 15
        }
      ],
      "source": [
        "textbox = gr.Textbox()\n",
        "\n",
        "# Function for generating responses based on user input\n",
        "def generate_response(user_query):\n",
        "    response = query_engine.query(user_query)\n",
        "    return response\n",
        "\n",
        "# Gradio interface\n",
        "demo = gr.Interface(fn=generate_response, inputs=textbox, outputs=\"text\", title=\"Chat with Docs\",\n",
        "    description=\"Have a conversation with the bot!\")\n",
        "\n",
        "# Launch the interface\n",
        "demo.launch()\n"
      ]
    }
  ],
  "metadata": {
    "colab": {
      "provenance": []
    },
    "kernelspec": {
      "display_name": "Python 3",
      "name": "python3"
    },
    "language_info": {
      "name": "python"
    },
    "widgets": {
      "application/vnd.jupyter.widget-state+json": {
        "99685b333db04af4b5439d022f99ca87": {
          "model_module": "@jupyter-widgets/controls",
          "model_name": "HBoxModel",
          "model_module_version": "1.5.0",
          "state": {
            "_dom_classes": [],
            "_model_module": "@jupyter-widgets/controls",
            "_model_module_version": "1.5.0",
            "_model_name": "HBoxModel",
            "_view_count": null,
            "_view_module": "@jupyter-widgets/controls",
            "_view_module_version": "1.5.0",
            "_view_name": "HBoxView",
            "box_style": "",
            "children": [
              "IPY_MODEL_547034ece051460cae6594f20d447bbb",
              "IPY_MODEL_3df377d771b24a039563e2d9414ccb90",
              "IPY_MODEL_29f85e5fb79b4c368a376d5fe5650fcc"
            ],
            "layout": "IPY_MODEL_a8d28bdf4d0a4d2fa71e6c58e23deee2"
          }
        },
        "547034ece051460cae6594f20d447bbb": {
          "model_module": "@jupyter-widgets/controls",
          "model_name": "HTMLModel",
          "model_module_version": "1.5.0",
          "state": {
            "_dom_classes": [],
            "_model_module": "@jupyter-widgets/controls",
            "_model_module_version": "1.5.0",
            "_model_name": "HTMLModel",
            "_view_count": null,
            "_view_module": "@jupyter-widgets/controls",
            "_view_module_version": "1.5.0",
            "_view_name": "HTMLView",
            "description": "",
            "description_tooltip": null,
            "layout": "IPY_MODEL_ab2bcbebdff344f8b1d4804ca68fc8ec",
            "placeholder": "​",
            "style": "IPY_MODEL_0af38304abcf4e07ad643742a5d63427",
            "value": "config.json: 100%"
          }
        },
        "3df377d771b24a039563e2d9414ccb90": {
          "model_module": "@jupyter-widgets/controls",
          "model_name": "FloatProgressModel",
          "model_module_version": "1.5.0",
          "state": {
            "_dom_classes": [],
            "_model_module": "@jupyter-widgets/controls",
            "_model_module_version": "1.5.0",
            "_model_name": "FloatProgressModel",
            "_view_count": null,
            "_view_module": "@jupyter-widgets/controls",
            "_view_module_version": "1.5.0",
            "_view_name": "ProgressView",
            "bar_style": "success",
            "description": "",
            "description_tooltip": null,
            "layout": "IPY_MODEL_8d9b25e8b78b477687999c788077859e",
            "max": 779,
            "min": 0,
            "orientation": "horizontal",
            "style": "IPY_MODEL_640b819288bd411babb05730eb770512",
            "value": 779
          }
        },
        "29f85e5fb79b4c368a376d5fe5650fcc": {
          "model_module": "@jupyter-widgets/controls",
          "model_name": "HTMLModel",
          "model_module_version": "1.5.0",
          "state": {
            "_dom_classes": [],
            "_model_module": "@jupyter-widgets/controls",
            "_model_module_version": "1.5.0",
            "_model_name": "HTMLModel",
            "_view_count": null,
            "_view_module": "@jupyter-widgets/controls",
            "_view_module_version": "1.5.0",
            "_view_name": "HTMLView",
            "description": "",
            "description_tooltip": null,
            "layout": "IPY_MODEL_6be0db11fd85471cb8ca8ea0c34d9c99",
            "placeholder": "​",
            "style": "IPY_MODEL_88aed46522c644bbb7571209fe9700e3",
            "value": " 779/779 [00:00&lt;00:00, 28.4kB/s]"
          }
        },
        "a8d28bdf4d0a4d2fa71e6c58e23deee2": {
          "model_module": "@jupyter-widgets/base",
          "model_name": "LayoutModel",
          "model_module_version": "1.2.0",
          "state": {
            "_model_module": "@jupyter-widgets/base",
            "_model_module_version": "1.2.0",
            "_model_name": "LayoutModel",
            "_view_count": null,
            "_view_module": "@jupyter-widgets/base",
            "_view_module_version": "1.2.0",
            "_view_name": "LayoutView",
            "align_content": null,
            "align_items": null,
            "align_self": null,
            "border": null,
            "bottom": null,
            "display": null,
            "flex": null,
            "flex_flow": null,
            "grid_area": null,
            "grid_auto_columns": null,
            "grid_auto_flow": null,
            "grid_auto_rows": null,
            "grid_column": null,
            "grid_gap": null,
            "grid_row": null,
            "grid_template_areas": null,
            "grid_template_columns": null,
            "grid_template_rows": null,
            "height": null,
            "justify_content": null,
            "justify_items": null,
            "left": null,
            "margin": null,
            "max_height": null,
            "max_width": null,
            "min_height": null,
            "min_width": null,
            "object_fit": null,
            "object_position": null,
            "order": null,
            "overflow": null,
            "overflow_x": null,
            "overflow_y": null,
            "padding": null,
            "right": null,
            "top": null,
            "visibility": null,
            "width": null
          }
        },
        "ab2bcbebdff344f8b1d4804ca68fc8ec": {
          "model_module": "@jupyter-widgets/base",
          "model_name": "LayoutModel",
          "model_module_version": "1.2.0",
          "state": {
            "_model_module": "@jupyter-widgets/base",
            "_model_module_version": "1.2.0",
            "_model_name": "LayoutModel",
            "_view_count": null,
            "_view_module": "@jupyter-widgets/base",
            "_view_module_version": "1.2.0",
            "_view_name": "LayoutView",
            "align_content": null,
            "align_items": null,
            "align_self": null,
            "border": null,
            "bottom": null,
            "display": null,
            "flex": null,
            "flex_flow": null,
            "grid_area": null,
            "grid_auto_columns": null,
            "grid_auto_flow": null,
            "grid_auto_rows": null,
            "grid_column": null,
            "grid_gap": null,
            "grid_row": null,
            "grid_template_areas": null,
            "grid_template_columns": null,
            "grid_template_rows": null,
            "height": null,
            "justify_content": null,
            "justify_items": null,
            "left": null,
            "margin": null,
            "max_height": null,
            "max_width": null,
            "min_height": null,
            "min_width": null,
            "object_fit": null,
            "object_position": null,
            "order": null,
            "overflow": null,
            "overflow_x": null,
            "overflow_y": null,
            "padding": null,
            "right": null,
            "top": null,
            "visibility": null,
            "width": null
          }
        },
        "0af38304abcf4e07ad643742a5d63427": {
          "model_module": "@jupyter-widgets/controls",
          "model_name": "DescriptionStyleModel",
          "model_module_version": "1.5.0",
          "state": {
            "_model_module": "@jupyter-widgets/controls",
            "_model_module_version": "1.5.0",
            "_model_name": "DescriptionStyleModel",
            "_view_count": null,
            "_view_module": "@jupyter-widgets/base",
            "_view_module_version": "1.2.0",
            "_view_name": "StyleView",
            "description_width": ""
          }
        },
        "8d9b25e8b78b477687999c788077859e": {
          "model_module": "@jupyter-widgets/base",
          "model_name": "LayoutModel",
          "model_module_version": "1.2.0",
          "state": {
            "_model_module": "@jupyter-widgets/base",
            "_model_module_version": "1.2.0",
            "_model_name": "LayoutModel",
            "_view_count": null,
            "_view_module": "@jupyter-widgets/base",
            "_view_module_version": "1.2.0",
            "_view_name": "LayoutView",
            "align_content": null,
            "align_items": null,
            "align_self": null,
            "border": null,
            "bottom": null,
            "display": null,
            "flex": null,
            "flex_flow": null,
            "grid_area": null,
            "grid_auto_columns": null,
            "grid_auto_flow": null,
            "grid_auto_rows": null,
            "grid_column": null,
            "grid_gap": null,
            "grid_row": null,
            "grid_template_areas": null,
            "grid_template_columns": null,
            "grid_template_rows": null,
            "height": null,
            "justify_content": null,
            "justify_items": null,
            "left": null,
            "margin": null,
            "max_height": null,
            "max_width": null,
            "min_height": null,
            "min_width": null,
            "object_fit": null,
            "object_position": null,
            "order": null,
            "overflow": null,
            "overflow_x": null,
            "overflow_y": null,
            "padding": null,
            "right": null,
            "top": null,
            "visibility": null,
            "width": null
          }
        },
        "640b819288bd411babb05730eb770512": {
          "model_module": "@jupyter-widgets/controls",
          "model_name": "ProgressStyleModel",
          "model_module_version": "1.5.0",
          "state": {
            "_model_module": "@jupyter-widgets/controls",
            "_model_module_version": "1.5.0",
            "_model_name": "ProgressStyleModel",
            "_view_count": null,
            "_view_module": "@jupyter-widgets/base",
            "_view_module_version": "1.2.0",
            "_view_name": "StyleView",
            "bar_color": null,
            "description_width": ""
          }
        },
        "6be0db11fd85471cb8ca8ea0c34d9c99": {
          "model_module": "@jupyter-widgets/base",
          "model_name": "LayoutModel",
          "model_module_version": "1.2.0",
          "state": {
            "_model_module": "@jupyter-widgets/base",
            "_model_module_version": "1.2.0",
            "_model_name": "LayoutModel",
            "_view_count": null,
            "_view_module": "@jupyter-widgets/base",
            "_view_module_version": "1.2.0",
            "_view_name": "LayoutView",
            "align_content": null,
            "align_items": null,
            "align_self": null,
            "border": null,
            "bottom": null,
            "display": null,
            "flex": null,
            "flex_flow": null,
            "grid_area": null,
            "grid_auto_columns": null,
            "grid_auto_flow": null,
            "grid_auto_rows": null,
            "grid_column": null,
            "grid_gap": null,
            "grid_row": null,
            "grid_template_areas": null,
            "grid_template_columns": null,
            "grid_template_rows": null,
            "height": null,
            "justify_content": null,
            "justify_items": null,
            "left": null,
            "margin": null,
            "max_height": null,
            "max_width": null,
            "min_height": null,
            "min_width": null,
            "object_fit": null,
            "object_position": null,
            "order": null,
            "overflow": null,
            "overflow_x": null,
            "overflow_y": null,
            "padding": null,
            "right": null,
            "top": null,
            "visibility": null,
            "width": null
          }
        },
        "88aed46522c644bbb7571209fe9700e3": {
          "model_module": "@jupyter-widgets/controls",
          "model_name": "DescriptionStyleModel",
          "model_module_version": "1.5.0",
          "state": {
            "_model_module": "@jupyter-widgets/controls",
            "_model_module_version": "1.5.0",
            "_model_name": "DescriptionStyleModel",
            "_view_count": null,
            "_view_module": "@jupyter-widgets/base",
            "_view_module_version": "1.2.0",
            "_view_name": "StyleView",
            "description_width": ""
          }
        },
        "c40092b6d67547e5946ad2ce29cd014f": {
          "model_module": "@jupyter-widgets/controls",
          "model_name": "HBoxModel",
          "model_module_version": "1.5.0",
          "state": {
            "_dom_classes": [],
            "_model_module": "@jupyter-widgets/controls",
            "_model_module_version": "1.5.0",
            "_model_name": "HBoxModel",
            "_view_count": null,
            "_view_module": "@jupyter-widgets/controls",
            "_view_module_version": "1.5.0",
            "_view_name": "HBoxView",
            "box_style": "",
            "children": [
              "IPY_MODEL_9b02941daef647bdb62e4141c2d4b60e",
              "IPY_MODEL_a410508b988c403c8d9e761fc0737d14",
              "IPY_MODEL_36d41c3e89a9485091044fe7c676f692"
            ],
            "layout": "IPY_MODEL_61793ef829354d8fb1c5b82fa0762a4d"
          }
        },
        "9b02941daef647bdb62e4141c2d4b60e": {
          "model_module": "@jupyter-widgets/controls",
          "model_name": "HTMLModel",
          "model_module_version": "1.5.0",
          "state": {
            "_dom_classes": [],
            "_model_module": "@jupyter-widgets/controls",
            "_model_module_version": "1.5.0",
            "_model_name": "HTMLModel",
            "_view_count": null,
            "_view_module": "@jupyter-widgets/controls",
            "_view_module_version": "1.5.0",
            "_view_name": "HTMLView",
            "description": "",
            "description_tooltip": null,
            "layout": "IPY_MODEL_6acd41f49c4c4547b6a53f87785253ce",
            "placeholder": "​",
            "style": "IPY_MODEL_6ee15e3f6a004919a9b20c7d4742c491",
            "value": "pytorch_model.bin: 100%"
          }
        },
        "a410508b988c403c8d9e761fc0737d14": {
          "model_module": "@jupyter-widgets/controls",
          "model_name": "FloatProgressModel",
          "model_module_version": "1.5.0",
          "state": {
            "_dom_classes": [],
            "_model_module": "@jupyter-widgets/controls",
            "_model_module_version": "1.5.0",
            "_model_name": "FloatProgressModel",
            "_view_count": null,
            "_view_module": "@jupyter-widgets/controls",
            "_view_module_version": "1.5.0",
            "_view_name": "ProgressView",
            "bar_style": "success",
            "description": "",
            "description_tooltip": null,
            "layout": "IPY_MODEL_70e0cd6cec274e60ae1a53b7954f04f4",
            "max": 1340698349,
            "min": 0,
            "orientation": "horizontal",
            "style": "IPY_MODEL_890456dc69124da2b80da4659adeb164",
            "value": 1340698349
          }
        },
        "36d41c3e89a9485091044fe7c676f692": {
          "model_module": "@jupyter-widgets/controls",
          "model_name": "HTMLModel",
          "model_module_version": "1.5.0",
          "state": {
            "_dom_classes": [],
            "_model_module": "@jupyter-widgets/controls",
            "_model_module_version": "1.5.0",
            "_model_name": "HTMLModel",
            "_view_count": null,
            "_view_module": "@jupyter-widgets/controls",
            "_view_module_version": "1.5.0",
            "_view_name": "HTMLView",
            "description": "",
            "description_tooltip": null,
            "layout": "IPY_MODEL_a4656deb570d40a0b7cee2b0da591e5c",
            "placeholder": "​",
            "style": "IPY_MODEL_de2f19b010b74ed3aece4ae79940967f",
            "value": " 1.34G/1.34G [00:13&lt;00:00, 119MB/s]"
          }
        },
        "61793ef829354d8fb1c5b82fa0762a4d": {
          "model_module": "@jupyter-widgets/base",
          "model_name": "LayoutModel",
          "model_module_version": "1.2.0",
          "state": {
            "_model_module": "@jupyter-widgets/base",
            "_model_module_version": "1.2.0",
            "_model_name": "LayoutModel",
            "_view_count": null,
            "_view_module": "@jupyter-widgets/base",
            "_view_module_version": "1.2.0",
            "_view_name": "LayoutView",
            "align_content": null,
            "align_items": null,
            "align_self": null,
            "border": null,
            "bottom": null,
            "display": null,
            "flex": null,
            "flex_flow": null,
            "grid_area": null,
            "grid_auto_columns": null,
            "grid_auto_flow": null,
            "grid_auto_rows": null,
            "grid_column": null,
            "grid_gap": null,
            "grid_row": null,
            "grid_template_areas": null,
            "grid_template_columns": null,
            "grid_template_rows": null,
            "height": null,
            "justify_content": null,
            "justify_items": null,
            "left": null,
            "margin": null,
            "max_height": null,
            "max_width": null,
            "min_height": null,
            "min_width": null,
            "object_fit": null,
            "object_position": null,
            "order": null,
            "overflow": null,
            "overflow_x": null,
            "overflow_y": null,
            "padding": null,
            "right": null,
            "top": null,
            "visibility": null,
            "width": null
          }
        },
        "6acd41f49c4c4547b6a53f87785253ce": {
          "model_module": "@jupyter-widgets/base",
          "model_name": "LayoutModel",
          "model_module_version": "1.2.0",
          "state": {
            "_model_module": "@jupyter-widgets/base",
            "_model_module_version": "1.2.0",
            "_model_name": "LayoutModel",
            "_view_count": null,
            "_view_module": "@jupyter-widgets/base",
            "_view_module_version": "1.2.0",
            "_view_name": "LayoutView",
            "align_content": null,
            "align_items": null,
            "align_self": null,
            "border": null,
            "bottom": null,
            "display": null,
            "flex": null,
            "flex_flow": null,
            "grid_area": null,
            "grid_auto_columns": null,
            "grid_auto_flow": null,
            "grid_auto_rows": null,
            "grid_column": null,
            "grid_gap": null,
            "grid_row": null,
            "grid_template_areas": null,
            "grid_template_columns": null,
            "grid_template_rows": null,
            "height": null,
            "justify_content": null,
            "justify_items": null,
            "left": null,
            "margin": null,
            "max_height": null,
            "max_width": null,
            "min_height": null,
            "min_width": null,
            "object_fit": null,
            "object_position": null,
            "order": null,
            "overflow": null,
            "overflow_x": null,
            "overflow_y": null,
            "padding": null,
            "right": null,
            "top": null,
            "visibility": null,
            "width": null
          }
        },
        "6ee15e3f6a004919a9b20c7d4742c491": {
          "model_module": "@jupyter-widgets/controls",
          "model_name": "DescriptionStyleModel",
          "model_module_version": "1.5.0",
          "state": {
            "_model_module": "@jupyter-widgets/controls",
            "_model_module_version": "1.5.0",
            "_model_name": "DescriptionStyleModel",
            "_view_count": null,
            "_view_module": "@jupyter-widgets/base",
            "_view_module_version": "1.2.0",
            "_view_name": "StyleView",
            "description_width": ""
          }
        },
        "70e0cd6cec274e60ae1a53b7954f04f4": {
          "model_module": "@jupyter-widgets/base",
          "model_name": "LayoutModel",
          "model_module_version": "1.2.0",
          "state": {
            "_model_module": "@jupyter-widgets/base",
            "_model_module_version": "1.2.0",
            "_model_name": "LayoutModel",
            "_view_count": null,
            "_view_module": "@jupyter-widgets/base",
            "_view_module_version": "1.2.0",
            "_view_name": "LayoutView",
            "align_content": null,
            "align_items": null,
            "align_self": null,
            "border": null,
            "bottom": null,
            "display": null,
            "flex": null,
            "flex_flow": null,
            "grid_area": null,
            "grid_auto_columns": null,
            "grid_auto_flow": null,
            "grid_auto_rows": null,
            "grid_column": null,
            "grid_gap": null,
            "grid_row": null,
            "grid_template_areas": null,
            "grid_template_columns": null,
            "grid_template_rows": null,
            "height": null,
            "justify_content": null,
            "justify_items": null,
            "left": null,
            "margin": null,
            "max_height": null,
            "max_width": null,
            "min_height": null,
            "min_width": null,
            "object_fit": null,
            "object_position": null,
            "order": null,
            "overflow": null,
            "overflow_x": null,
            "overflow_y": null,
            "padding": null,
            "right": null,
            "top": null,
            "visibility": null,
            "width": null
          }
        },
        "890456dc69124da2b80da4659adeb164": {
          "model_module": "@jupyter-widgets/controls",
          "model_name": "ProgressStyleModel",
          "model_module_version": "1.5.0",
          "state": {
            "_model_module": "@jupyter-widgets/controls",
            "_model_module_version": "1.5.0",
            "_model_name": "ProgressStyleModel",
            "_view_count": null,
            "_view_module": "@jupyter-widgets/base",
            "_view_module_version": "1.2.0",
            "_view_name": "StyleView",
            "bar_color": null,
            "description_width": ""
          }
        },
        "a4656deb570d40a0b7cee2b0da591e5c": {
          "model_module": "@jupyter-widgets/base",
          "model_name": "LayoutModel",
          "model_module_version": "1.2.0",
          "state": {
            "_model_module": "@jupyter-widgets/base",
            "_model_module_version": "1.2.0",
            "_model_name": "LayoutModel",
            "_view_count": null,
            "_view_module": "@jupyter-widgets/base",
            "_view_module_version": "1.2.0",
            "_view_name": "LayoutView",
            "align_content": null,
            "align_items": null,
            "align_self": null,
            "border": null,
            "bottom": null,
            "display": null,
            "flex": null,
            "flex_flow": null,
            "grid_area": null,
            "grid_auto_columns": null,
            "grid_auto_flow": null,
            "grid_auto_rows": null,
            "grid_column": null,
            "grid_gap": null,
            "grid_row": null,
            "grid_template_areas": null,
            "grid_template_columns": null,
            "grid_template_rows": null,
            "height": null,
            "justify_content": null,
            "justify_items": null,
            "left": null,
            "margin": null,
            "max_height": null,
            "max_width": null,
            "min_height": null,
            "min_width": null,
            "object_fit": null,
            "object_position": null,
            "order": null,
            "overflow": null,
            "overflow_x": null,
            "overflow_y": null,
            "padding": null,
            "right": null,
            "top": null,
            "visibility": null,
            "width": null
          }
        },
        "de2f19b010b74ed3aece4ae79940967f": {
          "model_module": "@jupyter-widgets/controls",
          "model_name": "DescriptionStyleModel",
          "model_module_version": "1.5.0",
          "state": {
            "_model_module": "@jupyter-widgets/controls",
            "_model_module_version": "1.5.0",
            "_model_name": "DescriptionStyleModel",
            "_view_count": null,
            "_view_module": "@jupyter-widgets/base",
            "_view_module_version": "1.2.0",
            "_view_name": "StyleView",
            "description_width": ""
          }
        },
        "484bac9f2f594fdebe36bca6d9a993a9": {
          "model_module": "@jupyter-widgets/controls",
          "model_name": "HBoxModel",
          "model_module_version": "1.5.0",
          "state": {
            "_dom_classes": [],
            "_model_module": "@jupyter-widgets/controls",
            "_model_module_version": "1.5.0",
            "_model_name": "HBoxModel",
            "_view_count": null,
            "_view_module": "@jupyter-widgets/controls",
            "_view_module_version": "1.5.0",
            "_view_name": "HBoxView",
            "box_style": "",
            "children": [
              "IPY_MODEL_685ceb82eef64fa5bee336aebfb27cc5",
              "IPY_MODEL_29dca243a58741aabf1be0781a8a72a3",
              "IPY_MODEL_f780d25532b644458076f765b049eab3"
            ],
            "layout": "IPY_MODEL_5675181fdbe246a183444de91b987e53"
          }
        },
        "685ceb82eef64fa5bee336aebfb27cc5": {
          "model_module": "@jupyter-widgets/controls",
          "model_name": "HTMLModel",
          "model_module_version": "1.5.0",
          "state": {
            "_dom_classes": [],
            "_model_module": "@jupyter-widgets/controls",
            "_model_module_version": "1.5.0",
            "_model_name": "HTMLModel",
            "_view_count": null,
            "_view_module": "@jupyter-widgets/controls",
            "_view_module_version": "1.5.0",
            "_view_name": "HTMLView",
            "description": "",
            "description_tooltip": null,
            "layout": "IPY_MODEL_c63777d9678c42f78d6b262ce2c8651d",
            "placeholder": "​",
            "style": "IPY_MODEL_fa77efdf94164f829b6d4c6ecff0ce12",
            "value": "tokenizer_config.json: 100%"
          }
        },
        "29dca243a58741aabf1be0781a8a72a3": {
          "model_module": "@jupyter-widgets/controls",
          "model_name": "FloatProgressModel",
          "model_module_version": "1.5.0",
          "state": {
            "_dom_classes": [],
            "_model_module": "@jupyter-widgets/controls",
            "_model_module_version": "1.5.0",
            "_model_name": "FloatProgressModel",
            "_view_count": null,
            "_view_module": "@jupyter-widgets/controls",
            "_view_module_version": "1.5.0",
            "_view_name": "ProgressView",
            "bar_style": "success",
            "description": "",
            "description_tooltip": null,
            "layout": "IPY_MODEL_2454ececf2af41b996891c9f1fa2e7d7",
            "max": 366,
            "min": 0,
            "orientation": "horizontal",
            "style": "IPY_MODEL_d223e13057ad4389b52aaf7113b203d5",
            "value": 366
          }
        },
        "f780d25532b644458076f765b049eab3": {
          "model_module": "@jupyter-widgets/controls",
          "model_name": "HTMLModel",
          "model_module_version": "1.5.0",
          "state": {
            "_dom_classes": [],
            "_model_module": "@jupyter-widgets/controls",
            "_model_module_version": "1.5.0",
            "_model_name": "HTMLModel",
            "_view_count": null,
            "_view_module": "@jupyter-widgets/controls",
            "_view_module_version": "1.5.0",
            "_view_name": "HTMLView",
            "description": "",
            "description_tooltip": null,
            "layout": "IPY_MODEL_43e45edfc664420b838159954ce27d6c",
            "placeholder": "​",
            "style": "IPY_MODEL_e0cfcee648bf46f7a1f24456ed4e08a8",
            "value": " 366/366 [00:00&lt;00:00, 17.7kB/s]"
          }
        },
        "5675181fdbe246a183444de91b987e53": {
          "model_module": "@jupyter-widgets/base",
          "model_name": "LayoutModel",
          "model_module_version": "1.2.0",
          "state": {
            "_model_module": "@jupyter-widgets/base",
            "_model_module_version": "1.2.0",
            "_model_name": "LayoutModel",
            "_view_count": null,
            "_view_module": "@jupyter-widgets/base",
            "_view_module_version": "1.2.0",
            "_view_name": "LayoutView",
            "align_content": null,
            "align_items": null,
            "align_self": null,
            "border": null,
            "bottom": null,
            "display": null,
            "flex": null,
            "flex_flow": null,
            "grid_area": null,
            "grid_auto_columns": null,
            "grid_auto_flow": null,
            "grid_auto_rows": null,
            "grid_column": null,
            "grid_gap": null,
            "grid_row": null,
            "grid_template_areas": null,
            "grid_template_columns": null,
            "grid_template_rows": null,
            "height": null,
            "justify_content": null,
            "justify_items": null,
            "left": null,
            "margin": null,
            "max_height": null,
            "max_width": null,
            "min_height": null,
            "min_width": null,
            "object_fit": null,
            "object_position": null,
            "order": null,
            "overflow": null,
            "overflow_x": null,
            "overflow_y": null,
            "padding": null,
            "right": null,
            "top": null,
            "visibility": null,
            "width": null
          }
        },
        "c63777d9678c42f78d6b262ce2c8651d": {
          "model_module": "@jupyter-widgets/base",
          "model_name": "LayoutModel",
          "model_module_version": "1.2.0",
          "state": {
            "_model_module": "@jupyter-widgets/base",
            "_model_module_version": "1.2.0",
            "_model_name": "LayoutModel",
            "_view_count": null,
            "_view_module": "@jupyter-widgets/base",
            "_view_module_version": "1.2.0",
            "_view_name": "LayoutView",
            "align_content": null,
            "align_items": null,
            "align_self": null,
            "border": null,
            "bottom": null,
            "display": null,
            "flex": null,
            "flex_flow": null,
            "grid_area": null,
            "grid_auto_columns": null,
            "grid_auto_flow": null,
            "grid_auto_rows": null,
            "grid_column": null,
            "grid_gap": null,
            "grid_row": null,
            "grid_template_areas": null,
            "grid_template_columns": null,
            "grid_template_rows": null,
            "height": null,
            "justify_content": null,
            "justify_items": null,
            "left": null,
            "margin": null,
            "max_height": null,
            "max_width": null,
            "min_height": null,
            "min_width": null,
            "object_fit": null,
            "object_position": null,
            "order": null,
            "overflow": null,
            "overflow_x": null,
            "overflow_y": null,
            "padding": null,
            "right": null,
            "top": null,
            "visibility": null,
            "width": null
          }
        },
        "fa77efdf94164f829b6d4c6ecff0ce12": {
          "model_module": "@jupyter-widgets/controls",
          "model_name": "DescriptionStyleModel",
          "model_module_version": "1.5.0",
          "state": {
            "_model_module": "@jupyter-widgets/controls",
            "_model_module_version": "1.5.0",
            "_model_name": "DescriptionStyleModel",
            "_view_count": null,
            "_view_module": "@jupyter-widgets/base",
            "_view_module_version": "1.2.0",
            "_view_name": "StyleView",
            "description_width": ""
          }
        },
        "2454ececf2af41b996891c9f1fa2e7d7": {
          "model_module": "@jupyter-widgets/base",
          "model_name": "LayoutModel",
          "model_module_version": "1.2.0",
          "state": {
            "_model_module": "@jupyter-widgets/base",
            "_model_module_version": "1.2.0",
            "_model_name": "LayoutModel",
            "_view_count": null,
            "_view_module": "@jupyter-widgets/base",
            "_view_module_version": "1.2.0",
            "_view_name": "LayoutView",
            "align_content": null,
            "align_items": null,
            "align_self": null,
            "border": null,
            "bottom": null,
            "display": null,
            "flex": null,
            "flex_flow": null,
            "grid_area": null,
            "grid_auto_columns": null,
            "grid_auto_flow": null,
            "grid_auto_rows": null,
            "grid_column": null,
            "grid_gap": null,
            "grid_row": null,
            "grid_template_areas": null,
            "grid_template_columns": null,
            "grid_template_rows": null,
            "height": null,
            "justify_content": null,
            "justify_items": null,
            "left": null,
            "margin": null,
            "max_height": null,
            "max_width": null,
            "min_height": null,
            "min_width": null,
            "object_fit": null,
            "object_position": null,
            "order": null,
            "overflow": null,
            "overflow_x": null,
            "overflow_y": null,
            "padding": null,
            "right": null,
            "top": null,
            "visibility": null,
            "width": null
          }
        },
        "d223e13057ad4389b52aaf7113b203d5": {
          "model_module": "@jupyter-widgets/controls",
          "model_name": "ProgressStyleModel",
          "model_module_version": "1.5.0",
          "state": {
            "_model_module": "@jupyter-widgets/controls",
            "_model_module_version": "1.5.0",
            "_model_name": "ProgressStyleModel",
            "_view_count": null,
            "_view_module": "@jupyter-widgets/base",
            "_view_module_version": "1.2.0",
            "_view_name": "StyleView",
            "bar_color": null,
            "description_width": ""
          }
        },
        "43e45edfc664420b838159954ce27d6c": {
          "model_module": "@jupyter-widgets/base",
          "model_name": "LayoutModel",
          "model_module_version": "1.2.0",
          "state": {
            "_model_module": "@jupyter-widgets/base",
            "_model_module_version": "1.2.0",
            "_model_name": "LayoutModel",
            "_view_count": null,
            "_view_module": "@jupyter-widgets/base",
            "_view_module_version": "1.2.0",
            "_view_name": "LayoutView",
            "align_content": null,
            "align_items": null,
            "align_self": null,
            "border": null,
            "bottom": null,
            "display": null,
            "flex": null,
            "flex_flow": null,
            "grid_area": null,
            "grid_auto_columns": null,
            "grid_auto_flow": null,
            "grid_auto_rows": null,
            "grid_column": null,
            "grid_gap": null,
            "grid_row": null,
            "grid_template_areas": null,
            "grid_template_columns": null,
            "grid_template_rows": null,
            "height": null,
            "justify_content": null,
            "justify_items": null,
            "left": null,
            "margin": null,
            "max_height": null,
            "max_width": null,
            "min_height": null,
            "min_width": null,
            "object_fit": null,
            "object_position": null,
            "order": null,
            "overflow": null,
            "overflow_x": null,
            "overflow_y": null,
            "padding": null,
            "right": null,
            "top": null,
            "visibility": null,
            "width": null
          }
        },
        "e0cfcee648bf46f7a1f24456ed4e08a8": {
          "model_module": "@jupyter-widgets/controls",
          "model_name": "DescriptionStyleModel",
          "model_module_version": "1.5.0",
          "state": {
            "_model_module": "@jupyter-widgets/controls",
            "_model_module_version": "1.5.0",
            "_model_name": "DescriptionStyleModel",
            "_view_count": null,
            "_view_module": "@jupyter-widgets/base",
            "_view_module_version": "1.2.0",
            "_view_name": "StyleView",
            "description_width": ""
          }
        },
        "30b1a6786c80433991d9565a544ebdb4": {
          "model_module": "@jupyter-widgets/controls",
          "model_name": "HBoxModel",
          "model_module_version": "1.5.0",
          "state": {
            "_dom_classes": [],
            "_model_module": "@jupyter-widgets/controls",
            "_model_module_version": "1.5.0",
            "_model_name": "HBoxModel",
            "_view_count": null,
            "_view_module": "@jupyter-widgets/controls",
            "_view_module_version": "1.5.0",
            "_view_name": "HBoxView",
            "box_style": "",
            "children": [
              "IPY_MODEL_3e41935b1344488f9470608424fb8034",
              "IPY_MODEL_2aad87f560514b24999c01e6140234ff",
              "IPY_MODEL_83dc423dc069499fbcf6040a1e4d3b1c"
            ],
            "layout": "IPY_MODEL_84b185554ccc481ab6becbb5ff290a98"
          }
        },
        "3e41935b1344488f9470608424fb8034": {
          "model_module": "@jupyter-widgets/controls",
          "model_name": "HTMLModel",
          "model_module_version": "1.5.0",
          "state": {
            "_dom_classes": [],
            "_model_module": "@jupyter-widgets/controls",
            "_model_module_version": "1.5.0",
            "_model_name": "HTMLModel",
            "_view_count": null,
            "_view_module": "@jupyter-widgets/controls",
            "_view_module_version": "1.5.0",
            "_view_name": "HTMLView",
            "description": "",
            "description_tooltip": null,
            "layout": "IPY_MODEL_d57bdea61dc14037aef10d6c2d0295ed",
            "placeholder": "​",
            "style": "IPY_MODEL_9d5120822bfb4cdbaff4bf8ff1806311",
            "value": "vocab.txt: 100%"
          }
        },
        "2aad87f560514b24999c01e6140234ff": {
          "model_module": "@jupyter-widgets/controls",
          "model_name": "FloatProgressModel",
          "model_module_version": "1.5.0",
          "state": {
            "_dom_classes": [],
            "_model_module": "@jupyter-widgets/controls",
            "_model_module_version": "1.5.0",
            "_model_name": "FloatProgressModel",
            "_view_count": null,
            "_view_module": "@jupyter-widgets/controls",
            "_view_module_version": "1.5.0",
            "_view_name": "ProgressView",
            "bar_style": "success",
            "description": "",
            "description_tooltip": null,
            "layout": "IPY_MODEL_c733cdba3fe84654946b43c2649d6b66",
            "max": 231508,
            "min": 0,
            "orientation": "horizontal",
            "style": "IPY_MODEL_4de90f7d5d7546b9a9e76a1f0e673061",
            "value": 231508
          }
        },
        "83dc423dc069499fbcf6040a1e4d3b1c": {
          "model_module": "@jupyter-widgets/controls",
          "model_name": "HTMLModel",
          "model_module_version": "1.5.0",
          "state": {
            "_dom_classes": [],
            "_model_module": "@jupyter-widgets/controls",
            "_model_module_version": "1.5.0",
            "_model_name": "HTMLModel",
            "_view_count": null,
            "_view_module": "@jupyter-widgets/controls",
            "_view_module_version": "1.5.0",
            "_view_name": "HTMLView",
            "description": "",
            "description_tooltip": null,
            "layout": "IPY_MODEL_29ad6cdc33dc4584a663e5949d538ba0",
            "placeholder": "​",
            "style": "IPY_MODEL_03035faeaf8946bfb1e90bf73a8e4acd",
            "value": " 232k/232k [00:00&lt;00:00, 4.07MB/s]"
          }
        },
        "84b185554ccc481ab6becbb5ff290a98": {
          "model_module": "@jupyter-widgets/base",
          "model_name": "LayoutModel",
          "model_module_version": "1.2.0",
          "state": {
            "_model_module": "@jupyter-widgets/base",
            "_model_module_version": "1.2.0",
            "_model_name": "LayoutModel",
            "_view_count": null,
            "_view_module": "@jupyter-widgets/base",
            "_view_module_version": "1.2.0",
            "_view_name": "LayoutView",
            "align_content": null,
            "align_items": null,
            "align_self": null,
            "border": null,
            "bottom": null,
            "display": null,
            "flex": null,
            "flex_flow": null,
            "grid_area": null,
            "grid_auto_columns": null,
            "grid_auto_flow": null,
            "grid_auto_rows": null,
            "grid_column": null,
            "grid_gap": null,
            "grid_row": null,
            "grid_template_areas": null,
            "grid_template_columns": null,
            "grid_template_rows": null,
            "height": null,
            "justify_content": null,
            "justify_items": null,
            "left": null,
            "margin": null,
            "max_height": null,
            "max_width": null,
            "min_height": null,
            "min_width": null,
            "object_fit": null,
            "object_position": null,
            "order": null,
            "overflow": null,
            "overflow_x": null,
            "overflow_y": null,
            "padding": null,
            "right": null,
            "top": null,
            "visibility": null,
            "width": null
          }
        },
        "d57bdea61dc14037aef10d6c2d0295ed": {
          "model_module": "@jupyter-widgets/base",
          "model_name": "LayoutModel",
          "model_module_version": "1.2.0",
          "state": {
            "_model_module": "@jupyter-widgets/base",
            "_model_module_version": "1.2.0",
            "_model_name": "LayoutModel",
            "_view_count": null,
            "_view_module": "@jupyter-widgets/base",
            "_view_module_version": "1.2.0",
            "_view_name": "LayoutView",
            "align_content": null,
            "align_items": null,
            "align_self": null,
            "border": null,
            "bottom": null,
            "display": null,
            "flex": null,
            "flex_flow": null,
            "grid_area": null,
            "grid_auto_columns": null,
            "grid_auto_flow": null,
            "grid_auto_rows": null,
            "grid_column": null,
            "grid_gap": null,
            "grid_row": null,
            "grid_template_areas": null,
            "grid_template_columns": null,
            "grid_template_rows": null,
            "height": null,
            "justify_content": null,
            "justify_items": null,
            "left": null,
            "margin": null,
            "max_height": null,
            "max_width": null,
            "min_height": null,
            "min_width": null,
            "object_fit": null,
            "object_position": null,
            "order": null,
            "overflow": null,
            "overflow_x": null,
            "overflow_y": null,
            "padding": null,
            "right": null,
            "top": null,
            "visibility": null,
            "width": null
          }
        },
        "9d5120822bfb4cdbaff4bf8ff1806311": {
          "model_module": "@jupyter-widgets/controls",
          "model_name": "DescriptionStyleModel",
          "model_module_version": "1.5.0",
          "state": {
            "_model_module": "@jupyter-widgets/controls",
            "_model_module_version": "1.5.0",
            "_model_name": "DescriptionStyleModel",
            "_view_count": null,
            "_view_module": "@jupyter-widgets/base",
            "_view_module_version": "1.2.0",
            "_view_name": "StyleView",
            "description_width": ""
          }
        },
        "c733cdba3fe84654946b43c2649d6b66": {
          "model_module": "@jupyter-widgets/base",
          "model_name": "LayoutModel",
          "model_module_version": "1.2.0",
          "state": {
            "_model_module": "@jupyter-widgets/base",
            "_model_module_version": "1.2.0",
            "_model_name": "LayoutModel",
            "_view_count": null,
            "_view_module": "@jupyter-widgets/base",
            "_view_module_version": "1.2.0",
            "_view_name": "LayoutView",
            "align_content": null,
            "align_items": null,
            "align_self": null,
            "border": null,
            "bottom": null,
            "display": null,
            "flex": null,
            "flex_flow": null,
            "grid_area": null,
            "grid_auto_columns": null,
            "grid_auto_flow": null,
            "grid_auto_rows": null,
            "grid_column": null,
            "grid_gap": null,
            "grid_row": null,
            "grid_template_areas": null,
            "grid_template_columns": null,
            "grid_template_rows": null,
            "height": null,
            "justify_content": null,
            "justify_items": null,
            "left": null,
            "margin": null,
            "max_height": null,
            "max_width": null,
            "min_height": null,
            "min_width": null,
            "object_fit": null,
            "object_position": null,
            "order": null,
            "overflow": null,
            "overflow_x": null,
            "overflow_y": null,
            "padding": null,
            "right": null,
            "top": null,
            "visibility": null,
            "width": null
          }
        },
        "4de90f7d5d7546b9a9e76a1f0e673061": {
          "model_module": "@jupyter-widgets/controls",
          "model_name": "ProgressStyleModel",
          "model_module_version": "1.5.0",
          "state": {
            "_model_module": "@jupyter-widgets/controls",
            "_model_module_version": "1.5.0",
            "_model_name": "ProgressStyleModel",
            "_view_count": null,
            "_view_module": "@jupyter-widgets/base",
            "_view_module_version": "1.2.0",
            "_view_name": "StyleView",
            "bar_color": null,
            "description_width": ""
          }
        },
        "29ad6cdc33dc4584a663e5949d538ba0": {
          "model_module": "@jupyter-widgets/base",
          "model_name": "LayoutModel",
          "model_module_version": "1.2.0",
          "state": {
            "_model_module": "@jupyter-widgets/base",
            "_model_module_version": "1.2.0",
            "_model_name": "LayoutModel",
            "_view_count": null,
            "_view_module": "@jupyter-widgets/base",
            "_view_module_version": "1.2.0",
            "_view_name": "LayoutView",
            "align_content": null,
            "align_items": null,
            "align_self": null,
            "border": null,
            "bottom": null,
            "display": null,
            "flex": null,
            "flex_flow": null,
            "grid_area": null,
            "grid_auto_columns": null,
            "grid_auto_flow": null,
            "grid_auto_rows": null,
            "grid_column": null,
            "grid_gap": null,
            "grid_row": null,
            "grid_template_areas": null,
            "grid_template_columns": null,
            "grid_template_rows": null,
            "height": null,
            "justify_content": null,
            "justify_items": null,
            "left": null,
            "margin": null,
            "max_height": null,
            "max_width": null,
            "min_height": null,
            "min_width": null,
            "object_fit": null,
            "object_position": null,
            "order": null,
            "overflow": null,
            "overflow_x": null,
            "overflow_y": null,
            "padding": null,
            "right": null,
            "top": null,
            "visibility": null,
            "width": null
          }
        },
        "03035faeaf8946bfb1e90bf73a8e4acd": {
          "model_module": "@jupyter-widgets/controls",
          "model_name": "DescriptionStyleModel",
          "model_module_version": "1.5.0",
          "state": {
            "_model_module": "@jupyter-widgets/controls",
            "_model_module_version": "1.5.0",
            "_model_name": "DescriptionStyleModel",
            "_view_count": null,
            "_view_module": "@jupyter-widgets/base",
            "_view_module_version": "1.2.0",
            "_view_name": "StyleView",
            "description_width": ""
          }
        },
        "edc6220b181f42c8ad91536c35cb7317": {
          "model_module": "@jupyter-widgets/controls",
          "model_name": "HBoxModel",
          "model_module_version": "1.5.0",
          "state": {
            "_dom_classes": [],
            "_model_module": "@jupyter-widgets/controls",
            "_model_module_version": "1.5.0",
            "_model_name": "HBoxModel",
            "_view_count": null,
            "_view_module": "@jupyter-widgets/controls",
            "_view_module_version": "1.5.0",
            "_view_name": "HBoxView",
            "box_style": "",
            "children": [
              "IPY_MODEL_305f42cc5de443cd97163a502b924ebc",
              "IPY_MODEL_95fd789cc87d4c13905b715ad2c6c886",
              "IPY_MODEL_4517a8d811284162b9a11f7ea7935f03"
            ],
            "layout": "IPY_MODEL_295973a497e34b0f9c6303dc285b2ce5"
          }
        },
        "305f42cc5de443cd97163a502b924ebc": {
          "model_module": "@jupyter-widgets/controls",
          "model_name": "HTMLModel",
          "model_module_version": "1.5.0",
          "state": {
            "_dom_classes": [],
            "_model_module": "@jupyter-widgets/controls",
            "_model_module_version": "1.5.0",
            "_model_name": "HTMLModel",
            "_view_count": null,
            "_view_module": "@jupyter-widgets/controls",
            "_view_module_version": "1.5.0",
            "_view_name": "HTMLView",
            "description": "",
            "description_tooltip": null,
            "layout": "IPY_MODEL_36ec7816aceb4423a45bd3b855042cce",
            "placeholder": "​",
            "style": "IPY_MODEL_7ba2bd658372478d90a03397b97908a4",
            "value": "tokenizer.json: 100%"
          }
        },
        "95fd789cc87d4c13905b715ad2c6c886": {
          "model_module": "@jupyter-widgets/controls",
          "model_name": "FloatProgressModel",
          "model_module_version": "1.5.0",
          "state": {
            "_dom_classes": [],
            "_model_module": "@jupyter-widgets/controls",
            "_model_module_version": "1.5.0",
            "_model_name": "FloatProgressModel",
            "_view_count": null,
            "_view_module": "@jupyter-widgets/controls",
            "_view_module_version": "1.5.0",
            "_view_name": "ProgressView",
            "bar_style": "success",
            "description": "",
            "description_tooltip": null,
            "layout": "IPY_MODEL_64be443548e84dc89fdd127b84345004",
            "max": 711396,
            "min": 0,
            "orientation": "horizontal",
            "style": "IPY_MODEL_13b825f0dd9d45a4955dd1966134676a",
            "value": 711396
          }
        },
        "4517a8d811284162b9a11f7ea7935f03": {
          "model_module": "@jupyter-widgets/controls",
          "model_name": "HTMLModel",
          "model_module_version": "1.5.0",
          "state": {
            "_dom_classes": [],
            "_model_module": "@jupyter-widgets/controls",
            "_model_module_version": "1.5.0",
            "_model_name": "HTMLModel",
            "_view_count": null,
            "_view_module": "@jupyter-widgets/controls",
            "_view_module_version": "1.5.0",
            "_view_name": "HTMLView",
            "description": "",
            "description_tooltip": null,
            "layout": "IPY_MODEL_44dbac591843447e94dc49c7df0b4df8",
            "placeholder": "​",
            "style": "IPY_MODEL_bf0ab81c90b24bb7b16fa8d0f59c20b2",
            "value": " 711k/711k [00:00&lt;00:00, 19.8MB/s]"
          }
        },
        "295973a497e34b0f9c6303dc285b2ce5": {
          "model_module": "@jupyter-widgets/base",
          "model_name": "LayoutModel",
          "model_module_version": "1.2.0",
          "state": {
            "_model_module": "@jupyter-widgets/base",
            "_model_module_version": "1.2.0",
            "_model_name": "LayoutModel",
            "_view_count": null,
            "_view_module": "@jupyter-widgets/base",
            "_view_module_version": "1.2.0",
            "_view_name": "LayoutView",
            "align_content": null,
            "align_items": null,
            "align_self": null,
            "border": null,
            "bottom": null,
            "display": null,
            "flex": null,
            "flex_flow": null,
            "grid_area": null,
            "grid_auto_columns": null,
            "grid_auto_flow": null,
            "grid_auto_rows": null,
            "grid_column": null,
            "grid_gap": null,
            "grid_row": null,
            "grid_template_areas": null,
            "grid_template_columns": null,
            "grid_template_rows": null,
            "height": null,
            "justify_content": null,
            "justify_items": null,
            "left": null,
            "margin": null,
            "max_height": null,
            "max_width": null,
            "min_height": null,
            "min_width": null,
            "object_fit": null,
            "object_position": null,
            "order": null,
            "overflow": null,
            "overflow_x": null,
            "overflow_y": null,
            "padding": null,
            "right": null,
            "top": null,
            "visibility": null,
            "width": null
          }
        },
        "36ec7816aceb4423a45bd3b855042cce": {
          "model_module": "@jupyter-widgets/base",
          "model_name": "LayoutModel",
          "model_module_version": "1.2.0",
          "state": {
            "_model_module": "@jupyter-widgets/base",
            "_model_module_version": "1.2.0",
            "_model_name": "LayoutModel",
            "_view_count": null,
            "_view_module": "@jupyter-widgets/base",
            "_view_module_version": "1.2.0",
            "_view_name": "LayoutView",
            "align_content": null,
            "align_items": null,
            "align_self": null,
            "border": null,
            "bottom": null,
            "display": null,
            "flex": null,
            "flex_flow": null,
            "grid_area": null,
            "grid_auto_columns": null,
            "grid_auto_flow": null,
            "grid_auto_rows": null,
            "grid_column": null,
            "grid_gap": null,
            "grid_row": null,
            "grid_template_areas": null,
            "grid_template_columns": null,
            "grid_template_rows": null,
            "height": null,
            "justify_content": null,
            "justify_items": null,
            "left": null,
            "margin": null,
            "max_height": null,
            "max_width": null,
            "min_height": null,
            "min_width": null,
            "object_fit": null,
            "object_position": null,
            "order": null,
            "overflow": null,
            "overflow_x": null,
            "overflow_y": null,
            "padding": null,
            "right": null,
            "top": null,
            "visibility": null,
            "width": null
          }
        },
        "7ba2bd658372478d90a03397b97908a4": {
          "model_module": "@jupyter-widgets/controls",
          "model_name": "DescriptionStyleModel",
          "model_module_version": "1.5.0",
          "state": {
            "_model_module": "@jupyter-widgets/controls",
            "_model_module_version": "1.5.0",
            "_model_name": "DescriptionStyleModel",
            "_view_count": null,
            "_view_module": "@jupyter-widgets/base",
            "_view_module_version": "1.2.0",
            "_view_name": "StyleView",
            "description_width": ""
          }
        },
        "64be443548e84dc89fdd127b84345004": {
          "model_module": "@jupyter-widgets/base",
          "model_name": "LayoutModel",
          "model_module_version": "1.2.0",
          "state": {
            "_model_module": "@jupyter-widgets/base",
            "_model_module_version": "1.2.0",
            "_model_name": "LayoutModel",
            "_view_count": null,
            "_view_module": "@jupyter-widgets/base",
            "_view_module_version": "1.2.0",
            "_view_name": "LayoutView",
            "align_content": null,
            "align_items": null,
            "align_self": null,
            "border": null,
            "bottom": null,
            "display": null,
            "flex": null,
            "flex_flow": null,
            "grid_area": null,
            "grid_auto_columns": null,
            "grid_auto_flow": null,
            "grid_auto_rows": null,
            "grid_column": null,
            "grid_gap": null,
            "grid_row": null,
            "grid_template_areas": null,
            "grid_template_columns": null,
            "grid_template_rows": null,
            "height": null,
            "justify_content": null,
            "justify_items": null,
            "left": null,
            "margin": null,
            "max_height": null,
            "max_width": null,
            "min_height": null,
            "min_width": null,
            "object_fit": null,
            "object_position": null,
            "order": null,
            "overflow": null,
            "overflow_x": null,
            "overflow_y": null,
            "padding": null,
            "right": null,
            "top": null,
            "visibility": null,
            "width": null
          }
        },
        "13b825f0dd9d45a4955dd1966134676a": {
          "model_module": "@jupyter-widgets/controls",
          "model_name": "ProgressStyleModel",
          "model_module_version": "1.5.0",
          "state": {
            "_model_module": "@jupyter-widgets/controls",
            "_model_module_version": "1.5.0",
            "_model_name": "ProgressStyleModel",
            "_view_count": null,
            "_view_module": "@jupyter-widgets/base",
            "_view_module_version": "1.2.0",
            "_view_name": "StyleView",
            "bar_color": null,
            "description_width": ""
          }
        },
        "44dbac591843447e94dc49c7df0b4df8": {
          "model_module": "@jupyter-widgets/base",
          "model_name": "LayoutModel",
          "model_module_version": "1.2.0",
          "state": {
            "_model_module": "@jupyter-widgets/base",
            "_model_module_version": "1.2.0",
            "_model_name": "LayoutModel",
            "_view_count": null,
            "_view_module": "@jupyter-widgets/base",
            "_view_module_version": "1.2.0",
            "_view_name": "LayoutView",
            "align_content": null,
            "align_items": null,
            "align_self": null,
            "border": null,
            "bottom": null,
            "display": null,
            "flex": null,
            "flex_flow": null,
            "grid_area": null,
            "grid_auto_columns": null,
            "grid_auto_flow": null,
            "grid_auto_rows": null,
            "grid_column": null,
            "grid_gap": null,
            "grid_row": null,
            "grid_template_areas": null,
            "grid_template_columns": null,
            "grid_template_rows": null,
            "height": null,
            "justify_content": null,
            "justify_items": null,
            "left": null,
            "margin": null,
            "max_height": null,
            "max_width": null,
            "min_height": null,
            "min_width": null,
            "object_fit": null,
            "object_position": null,
            "order": null,
            "overflow": null,
            "overflow_x": null,
            "overflow_y": null,
            "padding": null,
            "right": null,
            "top": null,
            "visibility": null,
            "width": null
          }
        },
        "bf0ab81c90b24bb7b16fa8d0f59c20b2": {
          "model_module": "@jupyter-widgets/controls",
          "model_name": "DescriptionStyleModel",
          "model_module_version": "1.5.0",
          "state": {
            "_model_module": "@jupyter-widgets/controls",
            "_model_module_version": "1.5.0",
            "_model_name": "DescriptionStyleModel",
            "_view_count": null,
            "_view_module": "@jupyter-widgets/base",
            "_view_module_version": "1.2.0",
            "_view_name": "StyleView",
            "description_width": ""
          }
        },
        "d59316a4c34c426cab4c94f8a0037604": {
          "model_module": "@jupyter-widgets/controls",
          "model_name": "HBoxModel",
          "model_module_version": "1.5.0",
          "state": {
            "_dom_classes": [],
            "_model_module": "@jupyter-widgets/controls",
            "_model_module_version": "1.5.0",
            "_model_name": "HBoxModel",
            "_view_count": null,
            "_view_module": "@jupyter-widgets/controls",
            "_view_module_version": "1.5.0",
            "_view_name": "HBoxView",
            "box_style": "",
            "children": [
              "IPY_MODEL_c248c0c8251a4ad3aee3e9371353cd7d",
              "IPY_MODEL_d0c26192f09a44e4a44c62252f70eb86",
              "IPY_MODEL_e2061ed9cd64455a940d70d502b606d9"
            ],
            "layout": "IPY_MODEL_95dee0d9d1154763be2304aaf7d26844"
          }
        },
        "c248c0c8251a4ad3aee3e9371353cd7d": {
          "model_module": "@jupyter-widgets/controls",
          "model_name": "HTMLModel",
          "model_module_version": "1.5.0",
          "state": {
            "_dom_classes": [],
            "_model_module": "@jupyter-widgets/controls",
            "_model_module_version": "1.5.0",
            "_model_name": "HTMLModel",
            "_view_count": null,
            "_view_module": "@jupyter-widgets/controls",
            "_view_module_version": "1.5.0",
            "_view_name": "HTMLView",
            "description": "",
            "description_tooltip": null,
            "layout": "IPY_MODEL_d400d8ba66ba423992c3238f1d53688c",
            "placeholder": "​",
            "style": "IPY_MODEL_f1f37619735049b6b84761bdbc5df503",
            "value": "special_tokens_map.json: 100%"
          }
        },
        "d0c26192f09a44e4a44c62252f70eb86": {
          "model_module": "@jupyter-widgets/controls",
          "model_name": "FloatProgressModel",
          "model_module_version": "1.5.0",
          "state": {
            "_dom_classes": [],
            "_model_module": "@jupyter-widgets/controls",
            "_model_module_version": "1.5.0",
            "_model_name": "FloatProgressModel",
            "_view_count": null,
            "_view_module": "@jupyter-widgets/controls",
            "_view_module_version": "1.5.0",
            "_view_name": "ProgressView",
            "bar_style": "success",
            "description": "",
            "description_tooltip": null,
            "layout": "IPY_MODEL_a393b82bbfcc4ecda823593488705f3b",
            "max": 125,
            "min": 0,
            "orientation": "horizontal",
            "style": "IPY_MODEL_9ce0244f38f840af94fe7f8a3c2f033c",
            "value": 125
          }
        },
        "e2061ed9cd64455a940d70d502b606d9": {
          "model_module": "@jupyter-widgets/controls",
          "model_name": "HTMLModel",
          "model_module_version": "1.5.0",
          "state": {
            "_dom_classes": [],
            "_model_module": "@jupyter-widgets/controls",
            "_model_module_version": "1.5.0",
            "_model_name": "HTMLModel",
            "_view_count": null,
            "_view_module": "@jupyter-widgets/controls",
            "_view_module_version": "1.5.0",
            "_view_name": "HTMLView",
            "description": "",
            "description_tooltip": null,
            "layout": "IPY_MODEL_06d175d1c0e34050867fd8aca67b97be",
            "placeholder": "​",
            "style": "IPY_MODEL_21596d6320ac4f05bc4f36ee532dae8e",
            "value": " 125/125 [00:00&lt;00:00, 6.69kB/s]"
          }
        },
        "95dee0d9d1154763be2304aaf7d26844": {
          "model_module": "@jupyter-widgets/base",
          "model_name": "LayoutModel",
          "model_module_version": "1.2.0",
          "state": {
            "_model_module": "@jupyter-widgets/base",
            "_model_module_version": "1.2.0",
            "_model_name": "LayoutModel",
            "_view_count": null,
            "_view_module": "@jupyter-widgets/base",
            "_view_module_version": "1.2.0",
            "_view_name": "LayoutView",
            "align_content": null,
            "align_items": null,
            "align_self": null,
            "border": null,
            "bottom": null,
            "display": null,
            "flex": null,
            "flex_flow": null,
            "grid_area": null,
            "grid_auto_columns": null,
            "grid_auto_flow": null,
            "grid_auto_rows": null,
            "grid_column": null,
            "grid_gap": null,
            "grid_row": null,
            "grid_template_areas": null,
            "grid_template_columns": null,
            "grid_template_rows": null,
            "height": null,
            "justify_content": null,
            "justify_items": null,
            "left": null,
            "margin": null,
            "max_height": null,
            "max_width": null,
            "min_height": null,
            "min_width": null,
            "object_fit": null,
            "object_position": null,
            "order": null,
            "overflow": null,
            "overflow_x": null,
            "overflow_y": null,
            "padding": null,
            "right": null,
            "top": null,
            "visibility": null,
            "width": null
          }
        },
        "d400d8ba66ba423992c3238f1d53688c": {
          "model_module": "@jupyter-widgets/base",
          "model_name": "LayoutModel",
          "model_module_version": "1.2.0",
          "state": {
            "_model_module": "@jupyter-widgets/base",
            "_model_module_version": "1.2.0",
            "_model_name": "LayoutModel",
            "_view_count": null,
            "_view_module": "@jupyter-widgets/base",
            "_view_module_version": "1.2.0",
            "_view_name": "LayoutView",
            "align_content": null,
            "align_items": null,
            "align_self": null,
            "border": null,
            "bottom": null,
            "display": null,
            "flex": null,
            "flex_flow": null,
            "grid_area": null,
            "grid_auto_columns": null,
            "grid_auto_flow": null,
            "grid_auto_rows": null,
            "grid_column": null,
            "grid_gap": null,
            "grid_row": null,
            "grid_template_areas": null,
            "grid_template_columns": null,
            "grid_template_rows": null,
            "height": null,
            "justify_content": null,
            "justify_items": null,
            "left": null,
            "margin": null,
            "max_height": null,
            "max_width": null,
            "min_height": null,
            "min_width": null,
            "object_fit": null,
            "object_position": null,
            "order": null,
            "overflow": null,
            "overflow_x": null,
            "overflow_y": null,
            "padding": null,
            "right": null,
            "top": null,
            "visibility": null,
            "width": null
          }
        },
        "f1f37619735049b6b84761bdbc5df503": {
          "model_module": "@jupyter-widgets/controls",
          "model_name": "DescriptionStyleModel",
          "model_module_version": "1.5.0",
          "state": {
            "_model_module": "@jupyter-widgets/controls",
            "_model_module_version": "1.5.0",
            "_model_name": "DescriptionStyleModel",
            "_view_count": null,
            "_view_module": "@jupyter-widgets/base",
            "_view_module_version": "1.2.0",
            "_view_name": "StyleView",
            "description_width": ""
          }
        },
        "a393b82bbfcc4ecda823593488705f3b": {
          "model_module": "@jupyter-widgets/base",
          "model_name": "LayoutModel",
          "model_module_version": "1.2.0",
          "state": {
            "_model_module": "@jupyter-widgets/base",
            "_model_module_version": "1.2.0",
            "_model_name": "LayoutModel",
            "_view_count": null,
            "_view_module": "@jupyter-widgets/base",
            "_view_module_version": "1.2.0",
            "_view_name": "LayoutView",
            "align_content": null,
            "align_items": null,
            "align_self": null,
            "border": null,
            "bottom": null,
            "display": null,
            "flex": null,
            "flex_flow": null,
            "grid_area": null,
            "grid_auto_columns": null,
            "grid_auto_flow": null,
            "grid_auto_rows": null,
            "grid_column": null,
            "grid_gap": null,
            "grid_row": null,
            "grid_template_areas": null,
            "grid_template_columns": null,
            "grid_template_rows": null,
            "height": null,
            "justify_content": null,
            "justify_items": null,
            "left": null,
            "margin": null,
            "max_height": null,
            "max_width": null,
            "min_height": null,
            "min_width": null,
            "object_fit": null,
            "object_position": null,
            "order": null,
            "overflow": null,
            "overflow_x": null,
            "overflow_y": null,
            "padding": null,
            "right": null,
            "top": null,
            "visibility": null,
            "width": null
          }
        },
        "9ce0244f38f840af94fe7f8a3c2f033c": {
          "model_module": "@jupyter-widgets/controls",
          "model_name": "ProgressStyleModel",
          "model_module_version": "1.5.0",
          "state": {
            "_model_module": "@jupyter-widgets/controls",
            "_model_module_version": "1.5.0",
            "_model_name": "ProgressStyleModel",
            "_view_count": null,
            "_view_module": "@jupyter-widgets/base",
            "_view_module_version": "1.2.0",
            "_view_name": "StyleView",
            "bar_color": null,
            "description_width": ""
          }
        },
        "06d175d1c0e34050867fd8aca67b97be": {
          "model_module": "@jupyter-widgets/base",
          "model_name": "LayoutModel",
          "model_module_version": "1.2.0",
          "state": {
            "_model_module": "@jupyter-widgets/base",
            "_model_module_version": "1.2.0",
            "_model_name": "LayoutModel",
            "_view_count": null,
            "_view_module": "@jupyter-widgets/base",
            "_view_module_version": "1.2.0",
            "_view_name": "LayoutView",
            "align_content": null,
            "align_items": null,
            "align_self": null,
            "border": null,
            "bottom": null,
            "display": null,
            "flex": null,
            "flex_flow": null,
            "grid_area": null,
            "grid_auto_columns": null,
            "grid_auto_flow": null,
            "grid_auto_rows": null,
            "grid_column": null,
            "grid_gap": null,
            "grid_row": null,
            "grid_template_areas": null,
            "grid_template_columns": null,
            "grid_template_rows": null,
            "height": null,
            "justify_content": null,
            "justify_items": null,
            "left": null,
            "margin": null,
            "max_height": null,
            "max_width": null,
            "min_height": null,
            "min_width": null,
            "object_fit": null,
            "object_position": null,
            "order": null,
            "overflow": null,
            "overflow_x": null,
            "overflow_y": null,
            "padding": null,
            "right": null,
            "top": null,
            "visibility": null,
            "width": null
          }
        },
        "21596d6320ac4f05bc4f36ee532dae8e": {
          "model_module": "@jupyter-widgets/controls",
          "model_name": "DescriptionStyleModel",
          "model_module_version": "1.5.0",
          "state": {
            "_model_module": "@jupyter-widgets/controls",
            "_model_module_version": "1.5.0",
            "_model_name": "DescriptionStyleModel",
            "_view_count": null,
            "_view_module": "@jupyter-widgets/base",
            "_view_module_version": "1.2.0",
            "_view_name": "StyleView",
            "description_width": ""
          }
        },
        "99e5f6319cd743ad8620f58699576b6b": {
          "model_module": "@jupyter-widgets/controls",
          "model_name": "HBoxModel",
          "model_module_version": "1.5.0",
          "state": {
            "_dom_classes": [],
            "_model_module": "@jupyter-widgets/controls",
            "_model_module_version": "1.5.0",
            "_model_name": "HBoxModel",
            "_view_count": null,
            "_view_module": "@jupyter-widgets/controls",
            "_view_module_version": "1.5.0",
            "_view_name": "HBoxView",
            "box_style": "",
            "children": [
              "IPY_MODEL_118e6e1964204e158c9f4de0eb0cf079",
              "IPY_MODEL_c3577e06820f405f8087bf7cff729e3e",
              "IPY_MODEL_ac2aa504ff27418d8b7f0ef5d45235f1"
            ],
            "layout": "IPY_MODEL_21b50faaebfb4b8ea6c96362626d7a7a"
          }
        },
        "118e6e1964204e158c9f4de0eb0cf079": {
          "model_module": "@jupyter-widgets/controls",
          "model_name": "HTMLModel",
          "model_module_version": "1.5.0",
          "state": {
            "_dom_classes": [],
            "_model_module": "@jupyter-widgets/controls",
            "_model_module_version": "1.5.0",
            "_model_name": "HTMLModel",
            "_view_count": null,
            "_view_module": "@jupyter-widgets/controls",
            "_view_module_version": "1.5.0",
            "_view_name": "HTMLView",
            "description": "",
            "description_tooltip": null,
            "layout": "IPY_MODEL_bbc5d6d9dfb24b4c9006beaa5976fa24",
            "placeholder": "​",
            "style": "IPY_MODEL_4f82359db1c94ea58303a4f6ce7e788d",
            "value": "Parsing nodes: 100%"
          }
        },
        "c3577e06820f405f8087bf7cff729e3e": {
          "model_module": "@jupyter-widgets/controls",
          "model_name": "FloatProgressModel",
          "model_module_version": "1.5.0",
          "state": {
            "_dom_classes": [],
            "_model_module": "@jupyter-widgets/controls",
            "_model_module_version": "1.5.0",
            "_model_name": "FloatProgressModel",
            "_view_count": null,
            "_view_module": "@jupyter-widgets/controls",
            "_view_module_version": "1.5.0",
            "_view_name": "ProgressView",
            "bar_style": "success",
            "description": "",
            "description_tooltip": null,
            "layout": "IPY_MODEL_ab7c1bbce2724f239a4b267752cc1038",
            "max": 5,
            "min": 0,
            "orientation": "horizontal",
            "style": "IPY_MODEL_111d4b76195c4db2aea678ef53cb5800",
            "value": 5
          }
        },
        "ac2aa504ff27418d8b7f0ef5d45235f1": {
          "model_module": "@jupyter-widgets/controls",
          "model_name": "HTMLModel",
          "model_module_version": "1.5.0",
          "state": {
            "_dom_classes": [],
            "_model_module": "@jupyter-widgets/controls",
            "_model_module_version": "1.5.0",
            "_model_name": "HTMLModel",
            "_view_count": null,
            "_view_module": "@jupyter-widgets/controls",
            "_view_module_version": "1.5.0",
            "_view_name": "HTMLView",
            "description": "",
            "description_tooltip": null,
            "layout": "IPY_MODEL_022d648df8bf4a3eb39d7b4b4e8588c8",
            "placeholder": "​",
            "style": "IPY_MODEL_1cca5b04611d499e858b26573b4e931c",
            "value": " 5/5 [00:00&lt;00:00, 115.73it/s]"
          }
        },
        "21b50faaebfb4b8ea6c96362626d7a7a": {
          "model_module": "@jupyter-widgets/base",
          "model_name": "LayoutModel",
          "model_module_version": "1.2.0",
          "state": {
            "_model_module": "@jupyter-widgets/base",
            "_model_module_version": "1.2.0",
            "_model_name": "LayoutModel",
            "_view_count": null,
            "_view_module": "@jupyter-widgets/base",
            "_view_module_version": "1.2.0",
            "_view_name": "LayoutView",
            "align_content": null,
            "align_items": null,
            "align_self": null,
            "border": null,
            "bottom": null,
            "display": null,
            "flex": null,
            "flex_flow": null,
            "grid_area": null,
            "grid_auto_columns": null,
            "grid_auto_flow": null,
            "grid_auto_rows": null,
            "grid_column": null,
            "grid_gap": null,
            "grid_row": null,
            "grid_template_areas": null,
            "grid_template_columns": null,
            "grid_template_rows": null,
            "height": null,
            "justify_content": null,
            "justify_items": null,
            "left": null,
            "margin": null,
            "max_height": null,
            "max_width": null,
            "min_height": null,
            "min_width": null,
            "object_fit": null,
            "object_position": null,
            "order": null,
            "overflow": null,
            "overflow_x": null,
            "overflow_y": null,
            "padding": null,
            "right": null,
            "top": null,
            "visibility": null,
            "width": null
          }
        },
        "bbc5d6d9dfb24b4c9006beaa5976fa24": {
          "model_module": "@jupyter-widgets/base",
          "model_name": "LayoutModel",
          "model_module_version": "1.2.0",
          "state": {
            "_model_module": "@jupyter-widgets/base",
            "_model_module_version": "1.2.0",
            "_model_name": "LayoutModel",
            "_view_count": null,
            "_view_module": "@jupyter-widgets/base",
            "_view_module_version": "1.2.0",
            "_view_name": "LayoutView",
            "align_content": null,
            "align_items": null,
            "align_self": null,
            "border": null,
            "bottom": null,
            "display": null,
            "flex": null,
            "flex_flow": null,
            "grid_area": null,
            "grid_auto_columns": null,
            "grid_auto_flow": null,
            "grid_auto_rows": null,
            "grid_column": null,
            "grid_gap": null,
            "grid_row": null,
            "grid_template_areas": null,
            "grid_template_columns": null,
            "grid_template_rows": null,
            "height": null,
            "justify_content": null,
            "justify_items": null,
            "left": null,
            "margin": null,
            "max_height": null,
            "max_width": null,
            "min_height": null,
            "min_width": null,
            "object_fit": null,
            "object_position": null,
            "order": null,
            "overflow": null,
            "overflow_x": null,
            "overflow_y": null,
            "padding": null,
            "right": null,
            "top": null,
            "visibility": null,
            "width": null
          }
        },
        "4f82359db1c94ea58303a4f6ce7e788d": {
          "model_module": "@jupyter-widgets/controls",
          "model_name": "DescriptionStyleModel",
          "model_module_version": "1.5.0",
          "state": {
            "_model_module": "@jupyter-widgets/controls",
            "_model_module_version": "1.5.0",
            "_model_name": "DescriptionStyleModel",
            "_view_count": null,
            "_view_module": "@jupyter-widgets/base",
            "_view_module_version": "1.2.0",
            "_view_name": "StyleView",
            "description_width": ""
          }
        },
        "ab7c1bbce2724f239a4b267752cc1038": {
          "model_module": "@jupyter-widgets/base",
          "model_name": "LayoutModel",
          "model_module_version": "1.2.0",
          "state": {
            "_model_module": "@jupyter-widgets/base",
            "_model_module_version": "1.2.0",
            "_model_name": "LayoutModel",
            "_view_count": null,
            "_view_module": "@jupyter-widgets/base",
            "_view_module_version": "1.2.0",
            "_view_name": "LayoutView",
            "align_content": null,
            "align_items": null,
            "align_self": null,
            "border": null,
            "bottom": null,
            "display": null,
            "flex": null,
            "flex_flow": null,
            "grid_area": null,
            "grid_auto_columns": null,
            "grid_auto_flow": null,
            "grid_auto_rows": null,
            "grid_column": null,
            "grid_gap": null,
            "grid_row": null,
            "grid_template_areas": null,
            "grid_template_columns": null,
            "grid_template_rows": null,
            "height": null,
            "justify_content": null,
            "justify_items": null,
            "left": null,
            "margin": null,
            "max_height": null,
            "max_width": null,
            "min_height": null,
            "min_width": null,
            "object_fit": null,
            "object_position": null,
            "order": null,
            "overflow": null,
            "overflow_x": null,
            "overflow_y": null,
            "padding": null,
            "right": null,
            "top": null,
            "visibility": null,
            "width": null
          }
        },
        "111d4b76195c4db2aea678ef53cb5800": {
          "model_module": "@jupyter-widgets/controls",
          "model_name": "ProgressStyleModel",
          "model_module_version": "1.5.0",
          "state": {
            "_model_module": "@jupyter-widgets/controls",
            "_model_module_version": "1.5.0",
            "_model_name": "ProgressStyleModel",
            "_view_count": null,
            "_view_module": "@jupyter-widgets/base",
            "_view_module_version": "1.2.0",
            "_view_name": "StyleView",
            "bar_color": null,
            "description_width": ""
          }
        },
        "022d648df8bf4a3eb39d7b4b4e8588c8": {
          "model_module": "@jupyter-widgets/base",
          "model_name": "LayoutModel",
          "model_module_version": "1.2.0",
          "state": {
            "_model_module": "@jupyter-widgets/base",
            "_model_module_version": "1.2.0",
            "_model_name": "LayoutModel",
            "_view_count": null,
            "_view_module": "@jupyter-widgets/base",
            "_view_module_version": "1.2.0",
            "_view_name": "LayoutView",
            "align_content": null,
            "align_items": null,
            "align_self": null,
            "border": null,
            "bottom": null,
            "display": null,
            "flex": null,
            "flex_flow": null,
            "grid_area": null,
            "grid_auto_columns": null,
            "grid_auto_flow": null,
            "grid_auto_rows": null,
            "grid_column": null,
            "grid_gap": null,
            "grid_row": null,
            "grid_template_areas": null,
            "grid_template_columns": null,
            "grid_template_rows": null,
            "height": null,
            "justify_content": null,
            "justify_items": null,
            "left": null,
            "margin": null,
            "max_height": null,
            "max_width": null,
            "min_height": null,
            "min_width": null,
            "object_fit": null,
            "object_position": null,
            "order": null,
            "overflow": null,
            "overflow_x": null,
            "overflow_y": null,
            "padding": null,
            "right": null,
            "top": null,
            "visibility": null,
            "width": null
          }
        },
        "1cca5b04611d499e858b26573b4e931c": {
          "model_module": "@jupyter-widgets/controls",
          "model_name": "DescriptionStyleModel",
          "model_module_version": "1.5.0",
          "state": {
            "_model_module": "@jupyter-widgets/controls",
            "_model_module_version": "1.5.0",
            "_model_name": "DescriptionStyleModel",
            "_view_count": null,
            "_view_module": "@jupyter-widgets/base",
            "_view_module_version": "1.2.0",
            "_view_name": "StyleView",
            "description_width": ""
          }
        },
        "fcc39aed425e4943ae90369fb0d7b8a1": {
          "model_module": "@jupyter-widgets/controls",
          "model_name": "HBoxModel",
          "model_module_version": "1.5.0",
          "state": {
            "_dom_classes": [],
            "_model_module": "@jupyter-widgets/controls",
            "_model_module_version": "1.5.0",
            "_model_name": "HBoxModel",
            "_view_count": null,
            "_view_module": "@jupyter-widgets/controls",
            "_view_module_version": "1.5.0",
            "_view_name": "HBoxView",
            "box_style": "",
            "children": [
              "IPY_MODEL_60326d11015943daa6eba47db985107c",
              "IPY_MODEL_e39b2560f84a409daa27e8bfa571124a",
              "IPY_MODEL_bd2c2a0cc15741f9b2c5295e6be98d32"
            ],
            "layout": "IPY_MODEL_d5c4b5fcf6aa4e198cb8bccce832392a"
          }
        },
        "60326d11015943daa6eba47db985107c": {
          "model_module": "@jupyter-widgets/controls",
          "model_name": "HTMLModel",
          "model_module_version": "1.5.0",
          "state": {
            "_dom_classes": [],
            "_model_module": "@jupyter-widgets/controls",
            "_model_module_version": "1.5.0",
            "_model_name": "HTMLModel",
            "_view_count": null,
            "_view_module": "@jupyter-widgets/controls",
            "_view_module_version": "1.5.0",
            "_view_name": "HTMLView",
            "description": "",
            "description_tooltip": null,
            "layout": "IPY_MODEL_768fef0967404df584a3a04ceeab0528",
            "placeholder": "​",
            "style": "IPY_MODEL_2c9a93156826451288dccc8e7130dc99",
            "value": "Generating embeddings: 100%"
          }
        },
        "e39b2560f84a409daa27e8bfa571124a": {
          "model_module": "@jupyter-widgets/controls",
          "model_name": "FloatProgressModel",
          "model_module_version": "1.5.0",
          "state": {
            "_dom_classes": [],
            "_model_module": "@jupyter-widgets/controls",
            "_model_module_version": "1.5.0",
            "_model_name": "FloatProgressModel",
            "_view_count": null,
            "_view_module": "@jupyter-widgets/controls",
            "_view_module_version": "1.5.0",
            "_view_name": "ProgressView",
            "bar_style": "success",
            "description": "",
            "description_tooltip": null,
            "layout": "IPY_MODEL_d264f86d1cd84f9182d787359dec0180",
            "max": 5,
            "min": 0,
            "orientation": "horizontal",
            "style": "IPY_MODEL_ebe3c5f5eef148deafe26fbccf40dd07",
            "value": 5
          }
        },
        "bd2c2a0cc15741f9b2c5295e6be98d32": {
          "model_module": "@jupyter-widgets/controls",
          "model_name": "HTMLModel",
          "model_module_version": "1.5.0",
          "state": {
            "_dom_classes": [],
            "_model_module": "@jupyter-widgets/controls",
            "_model_module_version": "1.5.0",
            "_model_name": "HTMLModel",
            "_view_count": null,
            "_view_module": "@jupyter-widgets/controls",
            "_view_module_version": "1.5.0",
            "_view_name": "HTMLView",
            "description": "",
            "description_tooltip": null,
            "layout": "IPY_MODEL_b3ab6a5cc23044f8aedab9943096e19e",
            "placeholder": "​",
            "style": "IPY_MODEL_44117fdb14324f90b139a24cac9e12c2",
            "value": " 5/5 [00:36&lt;00:00,  7.25s/it]"
          }
        },
        "d5c4b5fcf6aa4e198cb8bccce832392a": {
          "model_module": "@jupyter-widgets/base",
          "model_name": "LayoutModel",
          "model_module_version": "1.2.0",
          "state": {
            "_model_module": "@jupyter-widgets/base",
            "_model_module_version": "1.2.0",
            "_model_name": "LayoutModel",
            "_view_count": null,
            "_view_module": "@jupyter-widgets/base",
            "_view_module_version": "1.2.0",
            "_view_name": "LayoutView",
            "align_content": null,
            "align_items": null,
            "align_self": null,
            "border": null,
            "bottom": null,
            "display": null,
            "flex": null,
            "flex_flow": null,
            "grid_area": null,
            "grid_auto_columns": null,
            "grid_auto_flow": null,
            "grid_auto_rows": null,
            "grid_column": null,
            "grid_gap": null,
            "grid_row": null,
            "grid_template_areas": null,
            "grid_template_columns": null,
            "grid_template_rows": null,
            "height": null,
            "justify_content": null,
            "justify_items": null,
            "left": null,
            "margin": null,
            "max_height": null,
            "max_width": null,
            "min_height": null,
            "min_width": null,
            "object_fit": null,
            "object_position": null,
            "order": null,
            "overflow": null,
            "overflow_x": null,
            "overflow_y": null,
            "padding": null,
            "right": null,
            "top": null,
            "visibility": null,
            "width": null
          }
        },
        "768fef0967404df584a3a04ceeab0528": {
          "model_module": "@jupyter-widgets/base",
          "model_name": "LayoutModel",
          "model_module_version": "1.2.0",
          "state": {
            "_model_module": "@jupyter-widgets/base",
            "_model_module_version": "1.2.0",
            "_model_name": "LayoutModel",
            "_view_count": null,
            "_view_module": "@jupyter-widgets/base",
            "_view_module_version": "1.2.0",
            "_view_name": "LayoutView",
            "align_content": null,
            "align_items": null,
            "align_self": null,
            "border": null,
            "bottom": null,
            "display": null,
            "flex": null,
            "flex_flow": null,
            "grid_area": null,
            "grid_auto_columns": null,
            "grid_auto_flow": null,
            "grid_auto_rows": null,
            "grid_column": null,
            "grid_gap": null,
            "grid_row": null,
            "grid_template_areas": null,
            "grid_template_columns": null,
            "grid_template_rows": null,
            "height": null,
            "justify_content": null,
            "justify_items": null,
            "left": null,
            "margin": null,
            "max_height": null,
            "max_width": null,
            "min_height": null,
            "min_width": null,
            "object_fit": null,
            "object_position": null,
            "order": null,
            "overflow": null,
            "overflow_x": null,
            "overflow_y": null,
            "padding": null,
            "right": null,
            "top": null,
            "visibility": null,
            "width": null
          }
        },
        "2c9a93156826451288dccc8e7130dc99": {
          "model_module": "@jupyter-widgets/controls",
          "model_name": "DescriptionStyleModel",
          "model_module_version": "1.5.0",
          "state": {
            "_model_module": "@jupyter-widgets/controls",
            "_model_module_version": "1.5.0",
            "_model_name": "DescriptionStyleModel",
            "_view_count": null,
            "_view_module": "@jupyter-widgets/base",
            "_view_module_version": "1.2.0",
            "_view_name": "StyleView",
            "description_width": ""
          }
        },
        "d264f86d1cd84f9182d787359dec0180": {
          "model_module": "@jupyter-widgets/base",
          "model_name": "LayoutModel",
          "model_module_version": "1.2.0",
          "state": {
            "_model_module": "@jupyter-widgets/base",
            "_model_module_version": "1.2.0",
            "_model_name": "LayoutModel",
            "_view_count": null,
            "_view_module": "@jupyter-widgets/base",
            "_view_module_version": "1.2.0",
            "_view_name": "LayoutView",
            "align_content": null,
            "align_items": null,
            "align_self": null,
            "border": null,
            "bottom": null,
            "display": null,
            "flex": null,
            "flex_flow": null,
            "grid_area": null,
            "grid_auto_columns": null,
            "grid_auto_flow": null,
            "grid_auto_rows": null,
            "grid_column": null,
            "grid_gap": null,
            "grid_row": null,
            "grid_template_areas": null,
            "grid_template_columns": null,
            "grid_template_rows": null,
            "height": null,
            "justify_content": null,
            "justify_items": null,
            "left": null,
            "margin": null,
            "max_height": null,
            "max_width": null,
            "min_height": null,
            "min_width": null,
            "object_fit": null,
            "object_position": null,
            "order": null,
            "overflow": null,
            "overflow_x": null,
            "overflow_y": null,
            "padding": null,
            "right": null,
            "top": null,
            "visibility": null,
            "width": null
          }
        },
        "ebe3c5f5eef148deafe26fbccf40dd07": {
          "model_module": "@jupyter-widgets/controls",
          "model_name": "ProgressStyleModel",
          "model_module_version": "1.5.0",
          "state": {
            "_model_module": "@jupyter-widgets/controls",
            "_model_module_version": "1.5.0",
            "_model_name": "ProgressStyleModel",
            "_view_count": null,
            "_view_module": "@jupyter-widgets/base",
            "_view_module_version": "1.2.0",
            "_view_name": "StyleView",
            "bar_color": null,
            "description_width": ""
          }
        },
        "b3ab6a5cc23044f8aedab9943096e19e": {
          "model_module": "@jupyter-widgets/base",
          "model_name": "LayoutModel",
          "model_module_version": "1.2.0",
          "state": {
            "_model_module": "@jupyter-widgets/base",
            "_model_module_version": "1.2.0",
            "_model_name": "LayoutModel",
            "_view_count": null,
            "_view_module": "@jupyter-widgets/base",
            "_view_module_version": "1.2.0",
            "_view_name": "LayoutView",
            "align_content": null,
            "align_items": null,
            "align_self": null,
            "border": null,
            "bottom": null,
            "display": null,
            "flex": null,
            "flex_flow": null,
            "grid_area": null,
            "grid_auto_columns": null,
            "grid_auto_flow": null,
            "grid_auto_rows": null,
            "grid_column": null,
            "grid_gap": null,
            "grid_row": null,
            "grid_template_areas": null,
            "grid_template_columns": null,
            "grid_template_rows": null,
            "height": null,
            "justify_content": null,
            "justify_items": null,
            "left": null,
            "margin": null,
            "max_height": null,
            "max_width": null,
            "min_height": null,
            "min_width": null,
            "object_fit": null,
            "object_position": null,
            "order": null,
            "overflow": null,
            "overflow_x": null,
            "overflow_y": null,
            "padding": null,
            "right": null,
            "top": null,
            "visibility": null,
            "width": null
          }
        },
        "44117fdb14324f90b139a24cac9e12c2": {
          "model_module": "@jupyter-widgets/controls",
          "model_name": "DescriptionStyleModel",
          "model_module_version": "1.5.0",
          "state": {
            "_model_module": "@jupyter-widgets/controls",
            "_model_module_version": "1.5.0",
            "_model_name": "DescriptionStyleModel",
            "_view_count": null,
            "_view_module": "@jupyter-widgets/base",
            "_view_module_version": "1.2.0",
            "_view_name": "StyleView",
            "description_width": ""
          }
        }
      }
    }
  },
  "nbformat": 4,
  "nbformat_minor": 0
}